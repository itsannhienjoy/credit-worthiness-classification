{
  "cells": [
    {
      "cell_type": "markdown",
      "metadata": {
        "id": "Aj9Tk9qU5G14"
      },
      "source": [
        "# Import Required Dependencies"
      ]
    },
    {
      "cell_type": "markdown",
      "metadata": {
        "id": "kvMfrsfuBjdJ"
      },
      "source": [
        "## Tensorflow Decision Forests "
      ]
    },
    {
      "cell_type": "code",
      "execution_count": null,
      "metadata": {
        "id": "T3LLbpzvBlk7"
      },
      "outputs": [],
      "source": [
        "from IPython import display\n",
        "!pip install tensorflow_decision_forests\n",
        "display.clear_output()"
      ]
    },
    {
      "cell_type": "markdown",
      "metadata": {
        "id": "jna69Tli-5j5"
      },
      "source": [
        "## Install PySpark"
      ]
    },
    {
      "cell_type": "code",
      "execution_count": 2,
      "metadata": {
        "id": "cyYSnnlX5Pfg"
      },
      "outputs": [],
      "source": [
        "from IPython import display\n",
        "!sudo apt update\n",
        "!apt-get install openjdk-8-jdk-headless -qq > /dev/null\n",
        "!wget -q https://dlcdn.apache.org/spark/spark-3.2.1/spark-3.2.1-bin-hadoop3.2.tgz\n",
        "!tar xf spark-3.2.1-bin-hadoop3.2.tgz\n",
        "!pip install -q findspark\n",
        "!pip install pyspark\n",
        "!pip install py4j\n",
        "\n",
        "import os\n",
        "import sys\n",
        "import findspark\n",
        "findspark.init()\n",
        "findspark.find()\n",
        "\n",
        "os.environ['PYSPARK_PYTHON'] = sys.executable\n",
        "os.environ['PYSPARK_DRIVER_PYTHON'] = sys.executable\n",
        "display.clear_output()"
      ]
    },
    {
      "cell_type": "markdown",
      "metadata": {
        "id": "i9ho2sRk_D1B"
      },
      "source": [
        "## Libraries"
      ]
    },
    {
      "cell_type": "code",
      "execution_count": null,
      "metadata": {
        "id": "ROh2eYOz4UYd"
      },
      "outputs": [],
      "source": [
        "import warnings\n",
        "warnings.filterwarnings(\"ignore\")"
      ]
    },
    {
      "cell_type": "code",
      "execution_count": 3,
      "metadata": {
        "id": "AuZQnafvFR-c"
      },
      "outputs": [],
      "source": [
        "import pyspark\n",
        "from pyspark.ml import Pipeline\n",
        "from pyspark.ml.linalg import DenseVector\n",
        "from pyspark.ml.feature import VectorAssembler, Imputer, StringIndexer, OneHotEncoder\n",
        "from pyspark.ml.classification import RandomForestClassifier, MultilayerPerceptronClassifier\n",
        "from pyspark.ml.stat import Correlation\n",
        "\n",
        "from pyspark.sql.types import IntegerType, DoubleType\n",
        "import pyspark.sql.functions as F\n",
        "from pyspark.sql.functions import col, count, lit, udf\n",
        "from pyspark.sql import SparkSession\n",
        "\n",
        "from pyspark.ml.evaluation import MulticlassClassificationEvaluator\n",
        "from pyspark.ml.tuning import ParamGridBuilder, CrossValidator"
      ]
    },
    {
      "cell_type": "code",
      "execution_count": null,
      "metadata": {
        "id": "xWX7O9YS_GzC"
      },
      "outputs": [],
      "source": [
        "import tensorflow as tf\n",
        "import tensorflow_decision_forests as tfdf\n",
        "from tensorflow import keras\n",
        "from tensorflow.keras.models import Sequential\n",
        "from tensorflow.keras.layers import Dense\n",
        "from keras.callbacks import EarlyStopping\n",
        "from sklearn.model_selection import GridSearchCV\n",
        "\n",
        "import numpy as np\n",
        "import pandas as pd\n",
        "\n",
        "#from keras.wrappers.scikit_learn import KerasClassifier\n",
        "import matplotlib.pyplot as plt\n",
        "from sklearn.metrics import accuracy_score, precision_score, recall_score, roc_auc_score, confusion_matrix, classification_report"
      ]
    },
    {
      "cell_type": "markdown",
      "metadata": {
        "id": "72NHnWhY4eFM"
      },
      "source": [
        "# Stage1-Preprocessing"
      ]
    },
    {
      "cell_type": "code",
      "execution_count": null,
      "metadata": {
        "colab": {
          "base_uri": "https://localhost:8080/"
        },
        "id": "R3q70mWX3L3n",
        "outputId": "4a9934da-e37a-4c03-9b79-0607ca0f423a"
      },
      "outputs": [
        {
          "name": "stdout",
          "output_type": "stream",
          "text": [
            "+-------+---------+---------+-----------+---------------+----------+--------+-----------+-----+---------+--------------------+----------+--------------+----------+-------------------+----------+----------+--------------------+------------------+--------------------+--------+----------+-----+-----------+----------------+--------------+----------------------+----------------------+--------+-------+---------+----------+---------+-------------------+---------+-------------+-----------+---------------+---------------+-------------+------------------+----------+-----------------------+------------+---------------+------------+------------------+--------------------------+---------------------------+-----------+----------------+----------------+---------+-------------------------+--------------+------------+-----------+-----------+----------+-----------+-----------+------------------+------------+-------+-----------+-----------+----------+--------+----------------+------+-----------+------------+-----------+\n",
            "|     id|member_id|loan_amnt|funded_amnt|funded_amnt_inv|      term|int_rate|installment|grade|sub_grade|           emp_title|emp_length|home_ownership|annual_inc|verification_status|   issue_d|pymnt_plan|                desc|           purpose|               title|zip_code|addr_state|  dti|delinq_2yrs|earliest_cr_line|inq_last_6mths|mths_since_last_delinq|mths_since_last_record|open_acc|pub_rec|revol_bal|revol_util|total_acc|initial_list_status|out_prncp|out_prncp_inv|total_pymnt|total_pymnt_inv|total_rec_prncp|total_rec_int|total_rec_late_fee|recoveries|collection_recovery_fee|last_pymnt_d|last_pymnt_amnt|next_pymnt_d|last_credit_pull_d|collections_12_mths_ex_med|mths_since_last_major_derog|policy_code|application_type|annual_inc_joint|dti_joint|verification_status_joint|acc_now_delinq|tot_coll_amt|tot_cur_bal|open_acc_6m|open_il_6m|open_il_12m|open_il_24m|mths_since_rcnt_il|total_bal_il|il_util|open_rv_12m|open_rv_24m|max_bal_bc|all_util|total_rev_hi_lim|inq_fi|total_cu_tl|inq_last_12m|default_ind|\n",
            "+-------+---------+---------+-----------+---------------+----------+--------+-----------+-----+---------+--------------------+----------+--------------+----------+-------------------+----------+----------+--------------------+------------------+--------------------+--------+----------+-----+-----------+----------------+--------------+----------------------+----------------------+--------+-------+---------+----------+---------+-------------------+---------+-------------+-----------+---------------+---------------+-------------+------------------+----------+-----------------------+------------+---------------+------------+------------------+--------------------------+---------------------------+-----------+----------------+----------------+---------+-------------------------+--------------+------------+-----------+-----------+----------+-----------+-----------+------------------+------------+-------+-----------+-----------+----------+--------+----------------+------+-----------+------------+-----------+\n",
            "|1077501|  1296599|     5000|       5000|         4975.0| 36 months|   10.65|     162.87|    B|       B2|                NULL| 10+ years|          RENT|     24000|           Verified|01-12-2011|         n|  Borrower added ...|       credit_card|            Computer|   860xx|        AZ|27.65|          0|      01-01-1985|             1|                  NULL|                  NULL|       3|      0|    13648|      83.7|        9|                  f|        0|            0|5861.071414|        5831.78|           5000|       861.07|                 0|         0|                      0|  01-01-2015|         171.62|        NULL|        01-01-2016|                         0|                       NULL|          1|      INDIVIDUAL|            NULL|     NULL|                     NULL|             0|        NULL|       NULL|       NULL|      NULL|       NULL|       NULL|              NULL|        NULL|   NULL|       NULL|       NULL|      NULL|    NULL|            NULL|  NULL|       NULL|        NULL|          0|\n",
            "|1077430|  1314167|     2500|       2500|         2500.0| 60 months|   15.27|      59.83|    C|       C4|               Ryder|  < 1 year|          RENT|     30000|    Source Verified|01-12-2011|         n|  Borrower added ...|               car|                bike|   309xx|        GA|    1|          0|      01-04-1999|             5|                  NULL|                  NULL|       3|      0|     1687|       9.4|        4|                  f|        0|            0|    1008.71|        1008.71|         456.46|       435.17|                 0|    117.08|                   1.11|  01-04-2013|         119.66|        NULL|        01-09-2013|                         0|                       NULL|          1|      INDIVIDUAL|            NULL|     NULL|                     NULL|             0|        NULL|       NULL|       NULL|      NULL|       NULL|       NULL|              NULL|        NULL|   NULL|       NULL|       NULL|      NULL|    NULL|            NULL|  NULL|       NULL|        NULL|          1|\n",
            "|1077175|  1313524|     2400|       2400|         2400.0| 36 months|   15.96|      84.33|    C|       C5|                NULL| 10+ years|          RENT|     12252|       Not Verified|01-12-2011|         n|                NULL|    small_business|real estate business|   606xx|        IL| 8.72|          0|      01-11-2001|             2|                  NULL|                  NULL|       2|      0|     2956|      98.5|       10|                  f|        0|            0|3003.653644|        3003.65|           2400|       603.65|                 0|         0|                      0|  01-06-2014|         649.91|        NULL|        01-01-2016|                         0|                       NULL|          1|      INDIVIDUAL|            NULL|     NULL|                     NULL|             0|        NULL|       NULL|       NULL|      NULL|       NULL|       NULL|              NULL|        NULL|   NULL|       NULL|       NULL|      NULL|    NULL|            NULL|  NULL|       NULL|        NULL|          0|\n",
            "|1076863|  1277178|    10000|      10000|        10000.0| 36 months|   13.49|     339.31|    C|       C1| AIR RESOURCES BOARD| 10+ years|          RENT|     49200|    Source Verified|01-12-2011|         n|  Borrower added ...|             other|            personel|   917xx|        CA|   20|          0|      01-02-1996|             1|                    35|                  NULL|      10|      0|     5598|        21|       37|                  f|        0|            0|12226.30221|        12226.3|          10000|      2209.33|             16.97|         0|                      0|  01-01-2015|         357.48|        NULL|        01-01-2015|                         0|                       NULL|          1|      INDIVIDUAL|            NULL|     NULL|                     NULL|             0|        NULL|       NULL|       NULL|      NULL|       NULL|       NULL|              NULL|        NULL|   NULL|       NULL|       NULL|      NULL|    NULL|            NULL|  NULL|       NULL|        NULL|          0|\n",
            "|1075358|  1311748|     3000|       3000|         3000.0| 60 months|   12.69|      67.79|    B|       B5|University Medica...|    1 year|          RENT|     80000|    Source Verified|01-12-2011|         n|  Borrower added ...|             other|            Personal|   972xx|        OR|17.94|          0|      01-01-1996|             0|                    38|                  NULL|      15|      0|    27783|      53.9|       38|                  f|    766.9|        766.9|    3242.17|        3242.17|         2233.1|      1009.07|                 0|         0|                      0|  01-01-2016|          67.79|  01-02-2016|        01-01-2016|                         0|                       NULL|          1|      INDIVIDUAL|            NULL|     NULL|                     NULL|             0|        NULL|       NULL|       NULL|      NULL|       NULL|       NULL|              NULL|        NULL|   NULL|       NULL|       NULL|      NULL|    NULL|            NULL|  NULL|       NULL|        NULL|          0|\n",
            "|1075269|  1311441|     5000|       5000|         5000.0| 36 months|     7.9|     156.46|    A|       A4|Veolia Transportaton|   3 years|          RENT|     36000|    Source Verified|01-12-2011|         n|                NULL|           wedding|My wedding loan I...|   852xx|        AZ| 11.2|          0|      01-11-2004|             3|                  NULL|                  NULL|       9|      0|     7963|      28.3|       12|                  f|        0|            0|5631.377753|        5631.38|           5000|       631.38|                 0|         0|                      0|  01-01-2015|         161.03|        NULL|        01-09-2015|                         0|                       NULL|          1|      INDIVIDUAL|            NULL|     NULL|                     NULL|             0|        NULL|       NULL|       NULL|      NULL|       NULL|       NULL|              NULL|        NULL|   NULL|       NULL|       NULL|      NULL|    NULL|            NULL|  NULL|       NULL|        NULL|          0|\n",
            "|1069639|  1304742|     7000|       7000|         7000.0| 60 months|   15.96|     170.08|    C|       C5|Southern Star Pho...|   8 years|          RENT|     47004|       Not Verified|01-12-2011|         n|  Borrower added ...|debt_consolidation|                Loan|   280xx|        NC|23.51|          0|      01-07-2005|             1|                  NULL|                  NULL|       7|      0|    17726|      85.6|       11|                  f|  1889.15|      1889.15|    8136.84|        8136.84|        5110.85|      3025.99|                 0|         0|                      0|  01-01-2016|         170.08|  01-02-2016|        01-01-2016|                         0|                       NULL|          1|      INDIVIDUAL|            NULL|     NULL|                     NULL|             0|        NULL|       NULL|       NULL|      NULL|       NULL|       NULL|              NULL|        NULL|   NULL|       NULL|       NULL|      NULL|    NULL|            NULL|  NULL|       NULL|        NULL|          0|\n",
            "|1072053|  1288686|     3000|       3000|         3000.0| 36 months|   18.64|     109.43|    E|       E1|     MKC Accounting |   9 years|          RENT|     48000|    Source Verified|01-12-2011|         n|  Borrower added ...|               car|     Car Downpayment|   900xx|        CA| 5.35|          0|      01-01-2007|             2|                  NULL|                  NULL|       4|      0|     8221|      87.5|        4|                  f|        0|            0|3938.144334|        3938.14|           3000|       938.14|                 0|         0|                      0|  01-01-2015|         111.34|        NULL|        01-12-2014|                         0|                       NULL|          1|      INDIVIDUAL|            NULL|     NULL|                     NULL|             0|        NULL|       NULL|       NULL|      NULL|       NULL|       NULL|              NULL|        NULL|   NULL|       NULL|       NULL|      NULL|    NULL|            NULL|  NULL|       NULL|        NULL|          0|\n",
            "|1071795|  1306957|     5600|       5600|         5600.0| 60 months|   21.28|     152.39|    F|       F2|                NULL|   4 years|           OWN|     40000|    Source Verified|01-12-2011|         n|  Borrower added ...|    small_business|Expand Business &...|   958xx|        CA| 5.55|          0|      01-04-2004|             2|                  NULL|                  NULL|      11|      0|     5210|      32.6|       13|                  f|        0|            0|     646.02|         646.02|         162.02|       294.94|                 0|    189.06|                   2.09|  01-04-2012|         152.39|        NULL|        01-08-2012|                         0|                       NULL|          1|      INDIVIDUAL|            NULL|     NULL|                     NULL|             0|        NULL|       NULL|       NULL|      NULL|       NULL|       NULL|              NULL|        NULL|   NULL|       NULL|       NULL|      NULL|    NULL|            NULL|  NULL|       NULL|        NULL|          1|\n",
            "|1071570|  1306721|     5375|       5375|         5350.0| 60 months|   12.69|     121.45|    B|       B5|           Starbucks|  < 1 year|          RENT|     15000|           Verified|01-12-2011|         n|  Borrower added ...|             other|Building my credi...|   774xx|        TX|18.08|          0|      01-09-2004|             0|                  NULL|                  NULL|       2|      0|     9279|      36.5|        3|                  f|        0|            0|    1476.19|        1469.34|         673.48|       533.42|                 0|    269.29|                   2.52|  01-11-2012|         121.45|        NULL|        01-03-2013|                         0|                       NULL|          1|      INDIVIDUAL|            NULL|     NULL|                     NULL|             0|        NULL|       NULL|       NULL|      NULL|       NULL|       NULL|              NULL|        NULL|   NULL|       NULL|       NULL|      NULL|    NULL|            NULL|  NULL|       NULL|        NULL|          1|\n",
            "|1070078|  1305201|     6500|       6500|         6500.0| 60 months|   14.65|     153.45|    C|       C3|Southwest Rural m...|   5 years|           OWN|     72000|       Not Verified|01-12-2011|         n|  Borrower added ...|debt_consolidation|High intrest Cons...|   853xx|        AZ|16.12|          0|      01-01-1998|             2|                  NULL|                  NULL|      14|      0|     4032|      20.6|       23|                  f|        0|            0|    7677.52|        7677.52|           6500|      1177.52|                 0|         0|                      0|  01-06-2013|        1655.54|        NULL|        01-12-2015|                         0|                       NULL|          1|      INDIVIDUAL|            NULL|     NULL|                     NULL|             0|        NULL|       NULL|       NULL|      NULL|       NULL|       NULL|              NULL|        NULL|   NULL|       NULL|       NULL|      NULL|    NULL|            NULL|  NULL|       NULL|        NULL|          0|\n",
            "|1069908|  1305008|    12000|      12000|        12000.0| 36 months|   12.69|     402.54|    B|       B5|                UCLA| 10+ years|           OWN|     75000|    Source Verified|01-12-2011|         n|                NULL|debt_consolidation|       Consolidation|   913xx|        CA|10.78|          0|      01-10-1989|             0|                  NULL|                  NULL|      12|      0|    23336|      67.1|       34|                  f|        0|            0|   13943.08|       13943.08|          12000|      1943.08|                 0|         0|                      0|  01-09-2013|         6315.3|        NULL|        01-08-2013|                         0|                       NULL|          1|      INDIVIDUAL|            NULL|     NULL|                     NULL|             0|        NULL|       NULL|       NULL|      NULL|       NULL|       NULL|              NULL|        NULL|   NULL|       NULL|       NULL|      NULL|    NULL|            NULL|  NULL|       NULL|        NULL|          0|\n",
            "|1064687|  1298717|     9000|       9000|         9000.0| 36 months|   13.49|     305.38|    C|       C1|Va. Dept of Conse...|  < 1 year|          RENT|     30000|    Source Verified|01-12-2011|         n|  Borrower added ...|debt_consolidation|             freedom|   245xx|        VA|10.08|          0|      01-04-2004|             1|                  NULL|                  NULL|       4|      0|    10452|      91.7|        9|                  f|        0|            0|     2270.7|         2270.7|        1256.14|       570.26|                 0|     444.3|                   4.16|  01-07-2012|         305.38|        NULL|        01-11-2012|                         0|                       NULL|          1|      INDIVIDUAL|            NULL|     NULL|                     NULL|             0|        NULL|       NULL|       NULL|      NULL|       NULL|       NULL|              NULL|        NULL|   NULL|       NULL|       NULL|      NULL|    NULL|            NULL|  NULL|       NULL|        NULL|          1|\n",
            "|1069866|  1304956|     3000|       3000|         3000.0| 36 months|    9.91|      96.68|    B|       B1|              Target|   3 years|          RENT|     15000|    Source Verified|01-12-2011|         n|  Borrower added ...|       credit_card|       citicard fund|   606xx|        IL|12.56|          0|      01-07-2003|             2|                  NULL|                  NULL|      11|      0|     7323|      43.1|       11|                  f|        0|            0|3478.981915|        3478.98|           3000|       478.98|                 0|         0|                      0|  01-01-2015|         102.43|        NULL|        01-01-2016|                         0|                       NULL|          1|      INDIVIDUAL|            NULL|     NULL|                     NULL|             0|        NULL|       NULL|       NULL|      NULL|       NULL|       NULL|              NULL|        NULL|   NULL|       NULL|       NULL|      NULL|    NULL|            NULL|  NULL|       NULL|        NULL|          0|\n",
            "|1069057|  1303503|    10000|      10000|        10000.0| 36 months|   10.65|     325.74|    B|       B2|               SFMTA|   3 years|          RENT|    100000|    Source Verified|01-12-2011|         n|                NULL|             other|          Other Loan|   951xx|        CA| 7.06|          0|      01-05-1991|             2|                  NULL|                  NULL|      14|      0|    11997|      55.5|       29|                  f|        0|            0|    7471.99|        7471.99|        5433.47|      1393.42|                 0|     645.1|                 6.3145|  01-10-2013|         325.74|        NULL|        01-03-2014|                         0|                       NULL|          1|      INDIVIDUAL|            NULL|     NULL|                     NULL|             0|        NULL|       NULL|       NULL|      NULL|       NULL|       NULL|              NULL|        NULL|   NULL|       NULL|       NULL|      NULL|    NULL|            NULL|  NULL|       NULL|        NULL|          1|\n",
            "|1069759|  1304871|     1000|       1000|         1000.0| 36 months|   16.29|      35.31|    D|       D1|Internal revenue ...|  < 1 year|          RENT|     28000|       Not Verified|01-12-2011|         n|                NULL|debt_consolidation|Debt Consolidatio...|   641xx|        MO|20.31|          0|      01-09-2007|             1|                  NULL|                  NULL|      11|      0|     6524|      81.5|       23|                  f|        0|            0|1270.171106|        1270.17|           1000|       270.17|                 0|         0|                      0|  01-01-2015|          36.32|        NULL|        01-01-2016|                         0|                       NULL|          1|      INDIVIDUAL|            NULL|     NULL|                     NULL|             0|        NULL|       NULL|       NULL|      NULL|       NULL|       NULL|              NULL|        NULL|   NULL|       NULL|       NULL|      NULL|    NULL|            NULL|  NULL|       NULL|        NULL|          0|\n",
            "|1065775|  1299699|    10000|      10000|        10000.0| 36 months|   15.27|     347.98|    C|       C4|   Chin's Restaurant|   4 years|          RENT|     42000|       Not Verified|01-12-2011|         n|                NULL|  home_improvement|                Home|   921xx|        CA| 18.6|          0|      01-10-1998|             2|                    61|                  NULL|      14|      0|    24043|      70.2|       28|                  f|        0|            0|12519.26045|       12519.26|          10000|      2519.26|                 0|         0|                      0|  01-01-2015|         370.46|        NULL|        01-04-2015|                         0|                       NULL|          1|      INDIVIDUAL|            NULL|     NULL|                     NULL|             0|        NULL|       NULL|       NULL|      NULL|       NULL|       NULL|              NULL|        NULL|   NULL|       NULL|       NULL|      NULL|    NULL|            NULL|  NULL|       NULL|        NULL|          0|\n",
            "|1069971|  1304884|     3600|       3600|         3600.0| 36 months|    6.03|     109.57|    A|       A1|            Duracell| 10+ years|      MORTGAGE|    110000|       Not Verified|01-12-2011|         n|  Borrower added ...|    major_purchase|             Holiday|   067xx|        CT|10.52|          0|      01-08-1993|             0|                  NULL|                  NULL|      20|      0|    22836|        16|       42|                  f|        0|            0|    3785.02|        3785.02|           3600|       185.02|                 0|         0|                      0|  01-05-2013|         583.45|        NULL|        01-05-2014|                         0|                       NULL|          1|      INDIVIDUAL|            NULL|     NULL|                     NULL|             0|        NULL|       NULL|       NULL|      NULL|       NULL|       NULL|              NULL|        NULL|   NULL|       NULL|       NULL|      NULL|    NULL|            NULL|  NULL|       NULL|        NULL|          0|\n",
            "|1062474|  1294539|     6000|       6000|         6000.0| 36 months|   11.71|     198.46|    B|       B3|Connection Inspec...|    1 year|      MORTGAGE|     84000|           Verified|01-12-2011|         n|  Borrower added ...|           medical|             Medical|   890xx|        UT|18.44|          2|      01-10-2003|             0|                     8|                  NULL|       4|      0|        0|     37.73|       14|                  f|        0|            0|7164.499852|         7164.5|           6000|       1149.5|                15|         0|                      0|  01-02-2015|          16.98|        NULL|        01-07-2015|                         0|                       NULL|          1|      INDIVIDUAL|            NULL|     NULL|                     NULL|             0|        NULL|       NULL|       NULL|      NULL|       NULL|       NULL|              NULL|        NULL|   NULL|       NULL|       NULL|      NULL|    NULL|            NULL|  NULL|       NULL|        NULL|          0|\n",
            "|1069742|  1304855|     9200|       9200|         9200.0| 36 months|    6.03|     280.01|    A|       A1|Network Interpret...|   6 years|          RENT|  77385.19|       Not Verified|01-12-2011|         n|                NULL|debt_consolidation|lowerratemeanseas...|   921xx|        CA| 9.86|          0|      01-01-2001|             0|                  NULL|                  NULL|       8|      0|     7314|      23.1|       28|                  f|        0|            0|    9459.96|        9459.96|           9200|       259.96|                 0|         0|                      0|  01-07-2012|         8061.1|        NULL|        01-07-2012|                         0|                       NULL|          1|      INDIVIDUAL|            NULL|     NULL|                     NULL|             0|        NULL|       NULL|       NULL|      NULL|       NULL|       NULL|              NULL|        NULL|   NULL|       NULL|       NULL|      NULL|    NULL|            NULL|  NULL|       NULL|        NULL|          0|\n",
            "+-------+---------+---------+-----------+---------------+----------+--------+-----------+-----+---------+--------------------+----------+--------------+----------+-------------------+----------+----------+--------------------+------------------+--------------------+--------+----------+-----+-----------+----------------+--------------+----------------------+----------------------+--------+-------+---------+----------+---------+-------------------+---------+-------------+-----------+---------------+---------------+-------------+------------------+----------+-----------------------+------------+---------------+------------+------------------+--------------------------+---------------------------+-----------+----------------+----------------+---------+-------------------------+--------------+------------+-----------+-----------+----------+-----------+-----------+------------------+------------+-------+-----------+-----------+----------+--------+----------------+------+-----------+------------+-----------+\n",
            "only showing top 20 rows\n",
            "\n"
          ]
        }
      ],
      "source": [
        "from pyspark.sql import SparkSession\n",
        "from pyspark.sql.functions import col, count, when, isnan, isnull\n",
        "\n",
        "spark = SparkSession.builder.getOrCreate()\n",
        "\n",
        "# Load data into a DataFrame\n",
        "df = spark.read.csv(\"/content/drive/MyDrive/UOW/316/316-project/data/data.csv\", header=True, inferSchema=True)\n",
        "df.show()  # Display the first few records"
      ]
    },
    {
      "cell_type": "markdown",
      "metadata": {
        "id": "Od8u-HEX6D00"
      },
      "source": [
        "## View General Stats"
      ]
    },
    {
      "cell_type": "code",
      "execution_count": null,
      "metadata": {
        "colab": {
          "base_uri": "https://localhost:8080/"
        },
        "id": "JNDNB8Fw5uYq",
        "outputId": "14813c95-a88e-4be6-f2dd-47358f807e87"
      },
      "outputs": [
        {
          "name": "stdout",
          "output_type": "stream",
          "text": [
            "root\n",
            " |-- id: integer (nullable = true)\n",
            " |-- member_id: integer (nullable = true)\n",
            " |-- loan_amnt: integer (nullable = true)\n",
            " |-- funded_amnt: integer (nullable = true)\n",
            " |-- funded_amnt_inv: double (nullable = true)\n",
            " |-- term: string (nullable = true)\n",
            " |-- int_rate: double (nullable = true)\n",
            " |-- installment: double (nullable = true)\n",
            " |-- grade: string (nullable = true)\n",
            " |-- sub_grade: string (nullable = true)\n",
            " |-- emp_title: string (nullable = true)\n",
            " |-- emp_length: string (nullable = true)\n",
            " |-- home_ownership: string (nullable = true)\n",
            " |-- annual_inc: string (nullable = true)\n",
            " |-- verification_status: string (nullable = true)\n",
            " |-- issue_d: string (nullable = true)\n",
            " |-- pymnt_plan: string (nullable = true)\n",
            " |-- desc: string (nullable = true)\n",
            " |-- purpose: string (nullable = true)\n",
            " |-- title: string (nullable = true)\n",
            " |-- zip_code: string (nullable = true)\n",
            " |-- addr_state: string (nullable = true)\n",
            " |-- dti: string (nullable = true)\n",
            " |-- delinq_2yrs: string (nullable = true)\n",
            " |-- earliest_cr_line: string (nullable = true)\n",
            " |-- inq_last_6mths: string (nullable = true)\n",
            " |-- mths_since_last_delinq: string (nullable = true)\n",
            " |-- mths_since_last_record: string (nullable = true)\n",
            " |-- open_acc: string (nullable = true)\n",
            " |-- pub_rec: string (nullable = true)\n",
            " |-- revol_bal: string (nullable = true)\n",
            " |-- revol_util: string (nullable = true)\n",
            " |-- total_acc: string (nullable = true)\n",
            " |-- initial_list_status: string (nullable = true)\n",
            " |-- out_prncp: string (nullable = true)\n",
            " |-- out_prncp_inv: string (nullable = true)\n",
            " |-- total_pymnt: string (nullable = true)\n",
            " |-- total_pymnt_inv: string (nullable = true)\n",
            " |-- total_rec_prncp: string (nullable = true)\n",
            " |-- total_rec_int: string (nullable = true)\n",
            " |-- total_rec_late_fee: string (nullable = true)\n",
            " |-- recoveries: string (nullable = true)\n",
            " |-- collection_recovery_fee: string (nullable = true)\n",
            " |-- last_pymnt_d: string (nullable = true)\n",
            " |-- last_pymnt_amnt: string (nullable = true)\n",
            " |-- next_pymnt_d: string (nullable = true)\n",
            " |-- last_credit_pull_d: string (nullable = true)\n",
            " |-- collections_12_mths_ex_med: string (nullable = true)\n",
            " |-- mths_since_last_major_derog: string (nullable = true)\n",
            " |-- policy_code: string (nullable = true)\n",
            " |-- application_type: string (nullable = true)\n",
            " |-- annual_inc_joint: string (nullable = true)\n",
            " |-- dti_joint: string (nullable = true)\n",
            " |-- verification_status_joint: string (nullable = true)\n",
            " |-- acc_now_delinq: string (nullable = true)\n",
            " |-- tot_coll_amt: string (nullable = true)\n",
            " |-- tot_cur_bal: string (nullable = true)\n",
            " |-- open_acc_6m: string (nullable = true)\n",
            " |-- open_il_6m: string (nullable = true)\n",
            " |-- open_il_12m: string (nullable = true)\n",
            " |-- open_il_24m: string (nullable = true)\n",
            " |-- mths_since_rcnt_il: string (nullable = true)\n",
            " |-- total_bal_il: string (nullable = true)\n",
            " |-- il_util: string (nullable = true)\n",
            " |-- open_rv_12m: string (nullable = true)\n",
            " |-- open_rv_24m: string (nullable = true)\n",
            " |-- max_bal_bc: string (nullable = true)\n",
            " |-- all_util: string (nullable = true)\n",
            " |-- total_rev_hi_lim: string (nullable = true)\n",
            " |-- inq_fi: string (nullable = true)\n",
            " |-- total_cu_tl: string (nullable = true)\n",
            " |-- inq_last_12m: integer (nullable = true)\n",
            " |-- default_ind: integer (nullable = true)\n",
            "\n"
          ]
        }
      ],
      "source": [
        "# View data types and column names\n",
        "df.printSchema()"
      ]
    },
    {
      "cell_type": "code",
      "execution_count": null,
      "metadata": {
        "colab": {
          "base_uri": "https://localhost:8080/"
        },
        "id": "ca5XmUHo6GcH",
        "outputId": "276d58a5-fb35-4430-f313-1f5078d2652d"
      },
      "outputs": [
        {
          "name": "stdout",
          "output_type": "stream",
          "text": [
            "+-------+--------------------+--------------------+------------------+------------------+------------------+----------+------------------+------------------+------+---------+--------------------+----------+--------------+-----------------+-------------------+---------------+----------+--------------------+--------------------+--------------------+--------------------+--------------------+------------------+------------------+------------------+------------------+----------------------+----------------------+------------------+--------------------+--------------------+--------------------+--------------------+--------------------+-----------------+--------------------+-----------------+--------------------+--------------------+------------------+--------------------+------------------+-----------------------+------------------+------------------+------------------+------------------+--------------------------+---------------------------+------------------+-----------------+-----------------+------------------+-------------------------+-------------------+------------------+------------------+------------------+------------------+------------------+-----------------+------------------+-----------------+-----------------+------------------+------------------+-----------------+------------------+------------------+------------------+------------------+------------------+-------------------+\n",
            "|summary|                  id|           member_id|         loan_amnt|       funded_amnt|   funded_amnt_inv|      term|          int_rate|       installment| grade|sub_grade|           emp_title|emp_length|home_ownership|       annual_inc|verification_status|        issue_d|pymnt_plan|                desc|             purpose|               title|            zip_code|          addr_state|               dti|       delinq_2yrs|  earliest_cr_line|    inq_last_6mths|mths_since_last_delinq|mths_since_last_record|          open_acc|             pub_rec|           revol_bal|          revol_util|           total_acc| initial_list_status|        out_prncp|       out_prncp_inv|      total_pymnt|     total_pymnt_inv|     total_rec_prncp|     total_rec_int|  total_rec_late_fee|        recoveries|collection_recovery_fee|      last_pymnt_d|   last_pymnt_amnt|      next_pymnt_d|last_credit_pull_d|collections_12_mths_ex_med|mths_since_last_major_derog|       policy_code| application_type| annual_inc_joint|         dti_joint|verification_status_joint|     acc_now_delinq|      tot_coll_amt|       tot_cur_bal|       open_acc_6m|        open_il_6m|       open_il_12m|      open_il_24m|mths_since_rcnt_il|     total_bal_il|          il_util|       open_rv_12m|       open_rv_24m|       max_bal_bc|          all_util|  total_rev_hi_lim|            inq_fi|       total_cu_tl|      inq_last_12m|        default_ind|\n",
            "+-------+--------------------+--------------------+------------------+------------------+------------------+----------+------------------+------------------+------+---------+--------------------+----------+--------------+-----------------+-------------------+---------------+----------+--------------------+--------------------+--------------------+--------------------+--------------------+------------------+------------------+------------------+------------------+----------------------+----------------------+------------------+--------------------+--------------------+--------------------+--------------------+--------------------+-----------------+--------------------+-----------------+--------------------+--------------------+------------------+--------------------+------------------+-----------------------+------------------+------------------+------------------+------------------+--------------------------+---------------------------+------------------+-----------------+-----------------+------------------+-------------------------+-------------------+------------------+------------------+------------------+------------------+------------------+-----------------+------------------+-----------------+-----------------+------------------+------------------+-----------------+------------------+------------------+------------------+------------------+------------------+-------------------+\n",
            "|  count|              855969|              855969|            855969|            855969|            855969|    855969|            855969|            855969|855969|   855969|              806530|    855969|        855969|           855969|             855969|         855969|    855969|              121814|              855968|              855936|              855968|              855968|            855968|            855968|            855968|            855968|                416300|                131356|            855897|              855912|              855922|              855494|              855952|              855955|           855954|              855948|           855957|              855959|              855960|            855966|              855966|            855967|                 855964|            847100|            855966|            603218|            855867|                    855870|                     213332|            855897|           855912|              626|               587|                      551|             855826|            788771|            788745|             13369|             13353|             13331|            13322|             12959|            13314|            11632|             13299|             13305|            13301|             13294|            788658|             13293|             13297|             13289|             855746|\n",
            "|   mean|3.2240726286145877E7|3.4762690042003855E7|14745.571334943204|14732.378304588134|14700.061225999756|      NULL|13.192319605055827| 436.2380718344112|  NULL|     NULL|1.2810941556818182E7|      NULL|          NULL|75071.22927176002|            38000.0|           NULL|      NULL|                NULL|               384.0|            Infinity|                 0.0|                NULL|18.123810127573403|0.3123480678154647|26.896086956521735|0.6822168381595152|    34.142634058902544|     70.42372760102394| 11.54296815097585|  0.1960765625712012|   16908.69626299838|   55.91715695820985|  25.968200584869795|  2263.0536559139778| 8285.89549835517|   8282.436991670364|7650.628777464625|   7620.439186803648|   5849.749878239475|1756.4741183920426|  1.7748607324743964| 48.21955402103537|      5.620354049139619|1976.5201959016651|2225.9697361985486|2717.9857799171273|3367.8102573918713|       0.38861753160172524|          45.53334005049339|1.1955796674413361|720.6995652173914|86393.42756045342|255.30688804554083|        2319.298032786885|0.10623780751160922| 225.4549463071762|139753.06323234446| 18.59975509286998|3.5713591723517504|1.5689154273696861|2.734639128802103| 22.10486448922863|36465.59811198797|71.37272508384228|1.4044558923065353|2.9427202345159347|5838.685826060789|61.009643421349395|32163.519162322784|1.8130173062452972| 1.523315282791817|1.8418240650161788|0.05426376518265934|\n",
            "| stddev|2.2719691565777678E7| 2.399417679681356E7| 8425.340005005204| 8419.471653319737| 8425.805478470169|      NULL| 4.368365181701446|243.72687616798578|  NULL|     NULL|  8.34575692812245E7|      NULL|          NULL|64264.49486103645|               NULL|           NULL|      NULL|                NULL|   543.0580079512685|                 NaN|                NULL|                NULL|17.425265176637534|0.8637496886299738|209.15285346366267|1.3034984573776172|    21.871669441275337|     27.86358828124207|5.3120462644240565|  0.6343819932768587|  22224.042643877146|   179.7016450953392|   163.6776277696635|   7051.063987047671|8462.087431679473|    8458.62393772719|7909.012728877155|    7885.00474480922|   6676.542304929754| 2093.289304829823|  154.32649175739448|433.81372107990103|     116.56184154389102| 4954.840516380205| 4865.299583611445| 5349.237639779675| 6331.137195930885|         74.56147279197249|          215.3908396117096| 50.03794040401378|2933.559501651738|60512.88057230068|1608.7839691240242|        4688.120511662365|  31.29304993111533|10488.878812417901|153937.30659434243|1911.5780476942048| 69.40644079814113|60.390178110053284| 68.7627527866157| 109.9153258487779|42485.05760864883|23.17729877069355| 4.432960390363493| 2.595224748408899|5108.735931018706|20.038139706725396| 37699.64159437814| 99.75735040533151|2.6970485485871754| 2.974979879227414|0.22653756629105157|\n",
            "|    min|               54734|               70699|               500|               500|               0.0| 36 months|              5.32|             15.69|     A|       A1| \\tAdv Mtr Proj F...| reactors\"|       2 years|                0|              38000|     01-01-2008|01-10-2015|\\t Loan for purch...|      After gradu...|       \\tcredit_card| \"\"set it and for...| American women u...|       Karen     \"|          BEST BUY|           Mike  \"|               809|   Capital One ($27...|    I am currently ...|           Carlos\"| I plan on elimin...| I'm sure)!!  Ple...| #450216.<br/> 55...| and the work we ...| I am working on ...|    I mean.<br/>\"| and I pay her tu...|     and opinions| extremely rare t...| I need to hit th...|             of $2| and continue to ...|                 0|                      0|                 0|                 0|                 0|                 0|                         0|                          0|                 0|                0|                0|                 0|                        0|                  0|                 0|                 0|                 0|                 0|                 0|                0|                 0|                0|                0|                 0|                 0|                0|                 0|                 0|                 0|                 0|                -4|                  0|\n",
            "|    max|            68616867|            73519693|             35000|             35000|           35000.0| 60 months|             28.99|           1445.46|     G|       G5|â€‹License Compli...|       n/a|          RENT|         MORTGAGE|           Verified|Source Verified|         y|~20K total in med...|             wedding|Ã®ÂÂ—Ã®ÂÂ—MY FI...|      small_business|             wedding|           wedding|    small_business|    small_business|    small_business|      stupid decisions|        small_business|  home_improvement|    home_improvement|  debt_consolidation|              moving|      small_business|                   w|   small_business|               other|                f|savy debt consoli...|                   f|                 f|                   f|    small_business|   xperienceddebtorq...|                 f|                 f|                 f|                 f|                         f|                         99|                 f|                f|                f|                 f|                        f|         INDIVIDUAL|        INDIVIDUAL|                 f|        INDIVIDUAL|        INDIVIDUAL|        INDIVIDUAL|       INDIVIDUAL|        INDIVIDUAL|       INDIVIDUAL|       INDIVIDUAL|        INDIVIDUAL|                 9|       INDIVIDUAL|        INDIVIDUAL|        INDIVIDUAL|        INDIVIDUAL|        INDIVIDUAL|                32|                  1|\n",
            "+-------+--------------------+--------------------+------------------+------------------+------------------+----------+------------------+------------------+------+---------+--------------------+----------+--------------+-----------------+-------------------+---------------+----------+--------------------+--------------------+--------------------+--------------------+--------------------+------------------+------------------+------------------+------------------+----------------------+----------------------+------------------+--------------------+--------------------+--------------------+--------------------+--------------------+-----------------+--------------------+-----------------+--------------------+--------------------+------------------+--------------------+------------------+-----------------------+------------------+------------------+------------------+------------------+--------------------------+---------------------------+------------------+-----------------+-----------------+------------------+-------------------------+-------------------+------------------+------------------+------------------+------------------+------------------+-----------------+------------------+-----------------+-----------------+------------------+------------------+-----------------+------------------+------------------+------------------+------------------+------------------+-------------------+\n",
            "\n"
          ]
        }
      ],
      "source": [
        "df.describe().show()"
      ]
    },
    {
      "cell_type": "code",
      "execution_count": null,
      "metadata": {
        "colab": {
          "base_uri": "https://localhost:8080/"
        },
        "id": "_kplsBQ16JYI",
        "outputId": "53e788cc-8b66-4404-e7b2-d60aa9e09b08"
      },
      "outputs": [
        {
          "name": "stdout",
          "output_type": "stream",
          "text": [
            "Number of rows: 855969\n",
            "Number of columns: 73\n"
          ]
        }
      ],
      "source": [
        "# Get the number of rows\n",
        "num_rows = df.count()\n",
        "\n",
        "# Get the number of columns\n",
        "num_columns = len(df.columns)\n",
        "\n",
        "print(f\"Number of rows: {num_rows}\")\n",
        "print(f\"Number of columns: {num_columns}\")"
      ]
    },
    {
      "cell_type": "markdown",
      "metadata": {
        "id": "VlHnF1uQ6KzG"
      },
      "source": [
        "## Remove and check nulls before finding correlation"
      ]
    },
    {
      "cell_type": "markdown",
      "metadata": {
        "id": "F03dHXuq7dg4"
      },
      "source": [
        "Remove columns with more than 50% null values."
      ]
    },
    {
      "cell_type": "code",
      "execution_count": null,
      "metadata": {
        "colab": {
          "base_uri": "https://localhost:8080/"
        },
        "id": "k8_k-5iv6Qd3",
        "outputId": "3805915b-fe49-485b-a79e-3c9243a7e0fe"
      },
      "outputs": [
        {
          "name": "stdout",
          "output_type": "stream",
          "text": [
            "root\n",
            " |-- id: integer (nullable = true)\n",
            " |-- member_id: integer (nullable = true)\n",
            " |-- loan_amnt: integer (nullable = true)\n",
            " |-- funded_amnt: integer (nullable = true)\n",
            " |-- funded_amnt_inv: double (nullable = true)\n",
            " |-- term: string (nullable = true)\n",
            " |-- int_rate: double (nullable = true)\n",
            " |-- installment: double (nullable = true)\n",
            " |-- grade: string (nullable = true)\n",
            " |-- sub_grade: string (nullable = true)\n",
            " |-- emp_title: string (nullable = true)\n",
            " |-- emp_length: string (nullable = true)\n",
            " |-- home_ownership: string (nullable = true)\n",
            " |-- annual_inc: string (nullable = true)\n",
            " |-- verification_status: string (nullable = true)\n",
            " |-- issue_d: string (nullable = true)\n",
            " |-- pymnt_plan: string (nullable = true)\n",
            " |-- purpose: string (nullable = true)\n",
            " |-- title: string (nullable = true)\n",
            " |-- zip_code: string (nullable = true)\n",
            " |-- addr_state: string (nullable = true)\n",
            " |-- dti: string (nullable = true)\n",
            " |-- delinq_2yrs: string (nullable = true)\n",
            " |-- earliest_cr_line: string (nullable = true)\n",
            " |-- inq_last_6mths: string (nullable = true)\n",
            " |-- open_acc: string (nullable = true)\n",
            " |-- pub_rec: string (nullable = true)\n",
            " |-- revol_bal: string (nullable = true)\n",
            " |-- revol_util: string (nullable = true)\n",
            " |-- total_acc: string (nullable = true)\n",
            " |-- initial_list_status: string (nullable = true)\n",
            " |-- out_prncp: string (nullable = true)\n",
            " |-- out_prncp_inv: string (nullable = true)\n",
            " |-- total_pymnt: string (nullable = true)\n",
            " |-- total_pymnt_inv: string (nullable = true)\n",
            " |-- total_rec_prncp: string (nullable = true)\n",
            " |-- total_rec_int: string (nullable = true)\n",
            " |-- total_rec_late_fee: string (nullable = true)\n",
            " |-- recoveries: string (nullable = true)\n",
            " |-- collection_recovery_fee: string (nullable = true)\n",
            " |-- last_pymnt_d: string (nullable = true)\n",
            " |-- last_pymnt_amnt: string (nullable = true)\n",
            " |-- next_pymnt_d: string (nullable = true)\n",
            " |-- last_credit_pull_d: string (nullable = true)\n",
            " |-- collections_12_mths_ex_med: string (nullable = true)\n",
            " |-- policy_code: string (nullable = true)\n",
            " |-- application_type: string (nullable = true)\n",
            " |-- acc_now_delinq: string (nullable = true)\n",
            " |-- tot_coll_amt: string (nullable = true)\n",
            " |-- tot_cur_bal: string (nullable = true)\n",
            " |-- total_rev_hi_lim: string (nullable = true)\n",
            " |-- default_ind: integer (nullable = true)\n",
            "\n"
          ]
        }
      ],
      "source": [
        "from pyspark.sql.functions import col, count, when, isnan\n",
        "\n",
        "total_rows = df.count()\n",
        "\n",
        "missing_data = []\n",
        "\n",
        "for c in df.columns:\n",
        "  null_count = df.select(count(when(col(c).isNull()|isnan(c), c)).alias('Count')).collect()[0]['Count']\n",
        "  percent = (null_count/total_rows)*100\n",
        "  missing_data.append((c, null_count, percent))\n",
        "\n",
        "df_null = spark.createDataFrame(missing_data, [\"Column Name\", \"Count\", \"Percent\"])\n",
        "\n",
        "columns_to_drop = df_null.filter(col(\"Percent\")>50).select(\"Column Name\").rdd.flatMap(lambda x:x).collect()\n",
        "\n",
        "df = df.drop(*columns_to_drop)\n",
        "\n",
        "df.printSchema()"
      ]
    },
    {
      "cell_type": "code",
      "execution_count": null,
      "metadata": {
        "colab": {
          "base_uri": "https://localhost:8080/"
        },
        "id": "c3VkjDen6UXZ",
        "outputId": "0a685551-5ee5-4ad0-807b-d5e8cbfb5b61"
      },
      "outputs": [
        {
          "name": "stdout",
          "output_type": "stream",
          "text": [
            "+--------------------------+------+---------------------+\n",
            "|Column Name               |Count |Percent              |\n",
            "+--------------------------+------+---------------------+\n",
            "|id                        |0     |0.0                  |\n",
            "|member_id                 |0     |0.0                  |\n",
            "|loan_amnt                 |0     |0.0                  |\n",
            "|funded_amnt               |0     |0.0                  |\n",
            "|funded_amnt_inv           |0     |0.0                  |\n",
            "|term                      |0     |0.0                  |\n",
            "|int_rate                  |0     |0.0                  |\n",
            "|installment               |0     |0.0                  |\n",
            "|grade                     |0     |0.0                  |\n",
            "|sub_grade                 |0     |0.0                  |\n",
            "|emp_title                 |49439 |5.7757932822333515   |\n",
            "|emp_length                |0     |0.0                  |\n",
            "|home_ownership            |0     |0.0                  |\n",
            "|annual_inc                |0     |0.0                  |\n",
            "|verification_status       |0     |0.0                  |\n",
            "|issue_d                   |0     |0.0                  |\n",
            "|pymnt_plan                |0     |0.0                  |\n",
            "|purpose                   |1     |1.1682666077860296E-4|\n",
            "|title                     |33    |0.003855279805693898 |\n",
            "|zip_code                  |1     |1.1682666077860296E-4|\n",
            "|addr_state                |1     |1.1682666077860296E-4|\n",
            "|dti                       |1     |1.1682666077860296E-4|\n",
            "|delinq_2yrs               |1     |1.1682666077860296E-4|\n",
            "|earliest_cr_line          |1     |1.1682666077860296E-4|\n",
            "|inq_last_6mths            |1     |1.1682666077860296E-4|\n",
            "|open_acc                  |72    |0.008411519576059415 |\n",
            "|pub_rec                   |57    |0.006659119664380368 |\n",
            "|revol_bal                 |47    |0.005490853056594339 |\n",
            "|revol_util                |475   |0.055492663869836416 |\n",
            "|total_acc                 |17    |0.0019860532332362504|\n",
            "|initial_list_status       |14    |0.0016355732509004417|\n",
            "|out_prncp                 |15    |0.0017523999116790445|\n",
            "|out_prncp_inv             |21    |0.002453359876350662 |\n",
            "|total_pymnt               |12    |0.0014019199293432356|\n",
            "|total_pymnt_inv           |10    |0.0011682666077860297|\n",
            "|total_rec_prncp           |9     |0.0010514399470074268|\n",
            "|total_rec_int             |3     |3.504799823358089E-4 |\n",
            "|total_rec_late_fee        |3     |3.504799823358089E-4 |\n",
            "|recoveries                |2     |2.3365332155720592E-4|\n",
            "|collection_recovery_fee   |5     |5.841333038930148E-4 |\n",
            "|last_pymnt_d              |8869  |1.0361356544454297   |\n",
            "|last_pymnt_amnt           |3     |3.504799823358089E-4 |\n",
            "|next_pymnt_d              |252751|29.52805533845268    |\n",
            "|last_credit_pull_d        |102   |0.011916319399417502 |\n",
            "|collections_12_mths_ex_med|99    |0.011565839417081693 |\n",
            "|policy_code               |72    |0.008411519576059415 |\n",
            "|application_type          |57    |0.006659119664380368 |\n",
            "|acc_now_delinq            |143   |0.016706212491340224 |\n",
            "|tot_coll_amt              |67198 |7.850517951000562    |\n",
            "|tot_cur_bal               |67224 |7.853555444180806    |\n",
            "|total_rev_hi_lim          |67311 |7.863719363668544    |\n",
            "|default_ind               |223   |0.02605234535362846  |\n",
            "+--------------------------+------+---------------------+\n",
            "\n"
          ]
        }
      ],
      "source": [
        "total_rows = df.count()\n",
        "\n",
        "missing_data = []\n",
        "\n",
        "for c in df.columns:\n",
        "  null_count = df.select(count(when(col(c).isNull()|isnan(c), c)).alias('Count')).collect()[0]['Count']\n",
        "  percent = (null_count/total_rows)*100\n",
        "  missing_data.append((c, null_count, percent))\n",
        "\n",
        "df_null = spark.createDataFrame(missing_data, [\"Column Name\", \"Count\", \"Percent\"])\n",
        "\n",
        "df_null.show(df_null.count(), truncate=False)"
      ]
    },
    {
      "cell_type": "markdown",
      "metadata": {
        "id": "YtjkrsR66Wl8"
      },
      "source": [
        "## Convert numerical fields to categorical"
      ]
    },
    {
      "cell_type": "code",
      "execution_count": null,
      "metadata": {
        "id": "npyyELwY6bJV"
      },
      "outputs": [],
      "source": [
        "from pyspark.sql.types import IntegerType, DoubleType, StringType\n",
        "\n",
        "# Correct numerical fields that are incorrectly typed as strings\n",
        "numerical_fields = ['annual_inc', 'dti', 'delinq_2yrs', 'inq_last_6mths', 'open_acc',\n",
        "                      'pub_rec', 'revol_bal', 'revol_util', 'total_acc', 'out_prncp',\n",
        "                      'out_prncp_inv', 'total_pymnt', 'total_pymnt_inv', 'total_rec_prncp',\n",
        "                      'total_rec_int', 'total_rec_late_fee', 'recoveries', 'collection_recovery_fee',\n",
        "                      'last_pymnt_amnt', 'collections_12_mths_ex_med', 'tot_coll_amt', 'tot_cur_bal',\n",
        "                      'total_rev_hi_lim']\n",
        "for field in numerical_fields:\n",
        "    df = df.withColumn(field, col(field).cast(DoubleType()))"
      ]
    },
    {
      "cell_type": "code",
      "execution_count": null,
      "metadata": {
        "colab": {
          "base_uri": "https://localhost:8080/"
        },
        "id": "WnraL2Do6ckr",
        "outputId": "8481ca27-f6c0-40d7-bf4d-30ac5c8a0798"
      },
      "outputs": [
        {
          "name": "stdout",
          "output_type": "stream",
          "text": [
            "root\n",
            " |-- id: integer (nullable = true)\n",
            " |-- member_id: integer (nullable = true)\n",
            " |-- loan_amnt: integer (nullable = true)\n",
            " |-- funded_amnt: integer (nullable = true)\n",
            " |-- funded_amnt_inv: double (nullable = true)\n",
            " |-- term: string (nullable = true)\n",
            " |-- int_rate: double (nullable = true)\n",
            " |-- installment: double (nullable = true)\n",
            " |-- grade: string (nullable = true)\n",
            " |-- sub_grade: string (nullable = true)\n",
            " |-- emp_title: string (nullable = true)\n",
            " |-- emp_length: string (nullable = true)\n",
            " |-- home_ownership: string (nullable = true)\n",
            " |-- annual_inc: double (nullable = true)\n",
            " |-- verification_status: string (nullable = true)\n",
            " |-- issue_d: string (nullable = true)\n",
            " |-- pymnt_plan: string (nullable = true)\n",
            " |-- purpose: string (nullable = true)\n",
            " |-- title: string (nullable = true)\n",
            " |-- zip_code: string (nullable = true)\n",
            " |-- addr_state: string (nullable = true)\n",
            " |-- dti: double (nullable = true)\n",
            " |-- delinq_2yrs: double (nullable = true)\n",
            " |-- earliest_cr_line: string (nullable = true)\n",
            " |-- inq_last_6mths: double (nullable = true)\n",
            " |-- open_acc: double (nullable = true)\n",
            " |-- pub_rec: double (nullable = true)\n",
            " |-- revol_bal: double (nullable = true)\n",
            " |-- revol_util: double (nullable = true)\n",
            " |-- total_acc: double (nullable = true)\n",
            " |-- initial_list_status: string (nullable = true)\n",
            " |-- out_prncp: double (nullable = true)\n",
            " |-- out_prncp_inv: double (nullable = true)\n",
            " |-- total_pymnt: double (nullable = true)\n",
            " |-- total_pymnt_inv: double (nullable = true)\n",
            " |-- total_rec_prncp: double (nullable = true)\n",
            " |-- total_rec_int: double (nullable = true)\n",
            " |-- total_rec_late_fee: double (nullable = true)\n",
            " |-- recoveries: double (nullable = true)\n",
            " |-- collection_recovery_fee: double (nullable = true)\n",
            " |-- last_pymnt_d: string (nullable = true)\n",
            " |-- last_pymnt_amnt: double (nullable = true)\n",
            " |-- next_pymnt_d: string (nullable = true)\n",
            " |-- last_credit_pull_d: string (nullable = true)\n",
            " |-- collections_12_mths_ex_med: double (nullable = true)\n",
            " |-- policy_code: string (nullable = true)\n",
            " |-- application_type: string (nullable = true)\n",
            " |-- acc_now_delinq: string (nullable = true)\n",
            " |-- tot_coll_amt: double (nullable = true)\n",
            " |-- tot_cur_bal: double (nullable = true)\n",
            " |-- total_rev_hi_lim: double (nullable = true)\n",
            " |-- default_ind: integer (nullable = true)\n",
            "\n"
          ]
        }
      ],
      "source": [
        "df.printSchema()"
      ]
    },
    {
      "cell_type": "code",
      "execution_count": null,
      "metadata": {
        "colab": {
          "base_uri": "https://localhost:8080/"
        },
        "id": "e6bxe9Qw6eCt",
        "outputId": "fb8cf5ee-a032-4c39-9610-ebc936c7a624"
      },
      "outputs": [
        {
          "name": "stdout",
          "output_type": "stream",
          "text": [
            "+-------+---------+---------+-----------+---------------+----------+--------+-----------+-----+---------+--------------------+----------+--------------+----------+-------------------+----------+----------+--------------+--------------------+--------+----------+-----+-----------+----------------+--------------+--------+-------+---------+----------+---------+-------------------+---------+-------------+-----------+---------------+---------------+-------------+------------------+----------+-----------------------+------------+---------------+------------+------------------+--------------------------+-----------+----------------+--------------+------------+-----------+----------------+-----------+\n",
            "|     id|member_id|loan_amnt|funded_amnt|funded_amnt_inv|      term|int_rate|installment|grade|sub_grade|           emp_title|emp_length|home_ownership|annual_inc|verification_status|   issue_d|pymnt_plan|       purpose|               title|zip_code|addr_state|  dti|delinq_2yrs|earliest_cr_line|inq_last_6mths|open_acc|pub_rec|revol_bal|revol_util|total_acc|initial_list_status|out_prncp|out_prncp_inv|total_pymnt|total_pymnt_inv|total_rec_prncp|total_rec_int|total_rec_late_fee|recoveries|collection_recovery_fee|last_pymnt_d|last_pymnt_amnt|next_pymnt_d|last_credit_pull_d|collections_12_mths_ex_med|policy_code|application_type|acc_now_delinq|tot_coll_amt|tot_cur_bal|total_rev_hi_lim|default_ind|\n",
            "+-------+---------+---------+-----------+---------------+----------+--------+-----------+-----+---------+--------------------+----------+--------------+----------+-------------------+----------+----------+--------------+--------------------+--------+----------+-----+-----------+----------------+--------------+--------+-------+---------+----------+---------+-------------------+---------+-------------+-----------+---------------+---------------+-------------+------------------+----------+-----------------------+------------+---------------+------------+------------------+--------------------------+-----------+----------------+--------------+------------+-----------+----------------+-----------+\n",
            "|1077501|  1296599|     5000|       5000|         4975.0| 36 months|   10.65|     162.87|    B|       B2|                NULL| 10+ years|          RENT|   24000.0|           Verified|01-12-2011|         n|   credit_card|            Computer|   860xx|        AZ|27.65|        0.0|      01-01-1985|           1.0|     3.0|    0.0|  13648.0|      83.7|      9.0|                  f|      0.0|          0.0|5861.071414|        5831.78|         5000.0|       861.07|               0.0|       0.0|                    0.0|  01-01-2015|         171.62|        NULL|        01-01-2016|                       0.0|          1|      INDIVIDUAL|             0|        NULL|       NULL|            NULL|          0|\n",
            "|1077430|  1314167|     2500|       2500|         2500.0| 60 months|   15.27|      59.83|    C|       C4|               Ryder|  < 1 year|          RENT|   30000.0|    Source Verified|01-12-2011|         n|           car|                bike|   309xx|        GA|  1.0|        0.0|      01-04-1999|           5.0|     3.0|    0.0|   1687.0|       9.4|      4.0|                  f|      0.0|          0.0|    1008.71|        1008.71|         456.46|       435.17|               0.0|    117.08|                   1.11|  01-04-2013|         119.66|        NULL|        01-09-2013|                       0.0|          1|      INDIVIDUAL|             0|        NULL|       NULL|            NULL|          1|\n",
            "|1077175|  1313524|     2400|       2400|         2400.0| 36 months|   15.96|      84.33|    C|       C5|                NULL| 10+ years|          RENT|   12252.0|       Not Verified|01-12-2011|         n|small_business|real estate business|   606xx|        IL| 8.72|        0.0|      01-11-2001|           2.0|     2.0|    0.0|   2956.0|      98.5|     10.0|                  f|      0.0|          0.0|3003.653644|        3003.65|         2400.0|       603.65|               0.0|       0.0|                    0.0|  01-06-2014|         649.91|        NULL|        01-01-2016|                       0.0|          1|      INDIVIDUAL|             0|        NULL|       NULL|            NULL|          0|\n",
            "|1076863|  1277178|    10000|      10000|        10000.0| 36 months|   13.49|     339.31|    C|       C1| AIR RESOURCES BOARD| 10+ years|          RENT|   49200.0|    Source Verified|01-12-2011|         n|         other|            personel|   917xx|        CA| 20.0|        0.0|      01-02-1996|           1.0|    10.0|    0.0|   5598.0|      21.0|     37.0|                  f|      0.0|          0.0|12226.30221|        12226.3|        10000.0|      2209.33|             16.97|       0.0|                    0.0|  01-01-2015|         357.48|        NULL|        01-01-2015|                       0.0|          1|      INDIVIDUAL|             0|        NULL|       NULL|            NULL|          0|\n",
            "|1075358|  1311748|     3000|       3000|         3000.0| 60 months|   12.69|      67.79|    B|       B5|University Medica...|    1 year|          RENT|   80000.0|    Source Verified|01-12-2011|         n|         other|            Personal|   972xx|        OR|17.94|        0.0|      01-01-1996|           0.0|    15.0|    0.0|  27783.0|      53.9|     38.0|                  f|    766.9|        766.9|    3242.17|        3242.17|         2233.1|      1009.07|               0.0|       0.0|                    0.0|  01-01-2016|          67.79|  01-02-2016|        01-01-2016|                       0.0|          1|      INDIVIDUAL|             0|        NULL|       NULL|            NULL|          0|\n",
            "+-------+---------+---------+-----------+---------------+----------+--------+-----------+-----+---------+--------------------+----------+--------------+----------+-------------------+----------+----------+--------------+--------------------+--------+----------+-----+-----------+----------------+--------------+--------+-------+---------+----------+---------+-------------------+---------+-------------+-----------+---------------+---------------+-------------+------------------+----------+-----------------------+------------+---------------+------------+------------------+--------------------------+-----------+----------------+--------------+------------+-----------+----------------+-----------+\n",
            "only showing top 5 rows\n",
            "\n"
          ]
        }
      ],
      "source": [
        "df.show(5)"
      ]
    },
    {
      "cell_type": "markdown",
      "metadata": {
        "id": "u36SaoPy6gQf"
      },
      "source": [
        "## Apply Imputation"
      ]
    },
    {
      "cell_type": "markdown",
      "metadata": {
        "id": "Pe8kzz2H7v6H"
      },
      "source": [
        "Apply median imputation to the columns which seem necessary for the prediction analysis."
      ]
    },
    {
      "cell_type": "code",
      "execution_count": null,
      "metadata": {
        "id": "TWHdWCDn6jIR"
      },
      "outputs": [],
      "source": [
        "imputer = Imputer(\n",
        "    inputCols=[\"tot_coll_amt\", \"tot_cur_bal\", \"total_rev_hi_lim\"],\n",
        "    outputCols=[\"tot_coll_amt\", \"tot_cur_bal\", \"total_rev_hi_lim\"],\n",
        "    strategy=\"median\"\n",
        ")\n",
        "\n",
        "# Apply the imputer\n",
        "df = imputer.fit(df).transform(df)"
      ]
    },
    {
      "cell_type": "code",
      "execution_count": null,
      "metadata": {
        "colab": {
          "base_uri": "https://localhost:8080/"
        },
        "id": "mRUYHg0W6qAp",
        "outputId": "4596f983-ceae-4cac-a379-42cace99a8b7"
      },
      "outputs": [
        {
          "name": "stdout",
          "output_type": "stream",
          "text": [
            "+--------------------------+------+---------------------+\n",
            "|Column Name               |Count |Percent              |\n",
            "+--------------------------+------+---------------------+\n",
            "|id                        |0     |0.0                  |\n",
            "|member_id                 |0     |0.0                  |\n",
            "|loan_amnt                 |0     |0.0                  |\n",
            "|funded_amnt               |0     |0.0                  |\n",
            "|funded_amnt_inv           |0     |0.0                  |\n",
            "|term                      |0     |0.0                  |\n",
            "|int_rate                  |0     |0.0                  |\n",
            "|installment               |0     |0.0                  |\n",
            "|grade                     |0     |0.0                  |\n",
            "|sub_grade                 |0     |0.0                  |\n",
            "|emp_title                 |49439 |5.7757932822333515   |\n",
            "|emp_length                |0     |0.0                  |\n",
            "|home_ownership            |0     |0.0                  |\n",
            "|annual_inc                |1     |1.1682666077860296E-4|\n",
            "|verification_status       |0     |0.0                  |\n",
            "|issue_d                   |0     |0.0                  |\n",
            "|pymnt_plan                |0     |0.0                  |\n",
            "|purpose                   |1     |1.1682666077860296E-4|\n",
            "|title                     |33    |0.003855279805693898 |\n",
            "|zip_code                  |1     |1.1682666077860296E-4|\n",
            "|addr_state                |1     |1.1682666077860296E-4|\n",
            "|dti                       |226   |0.02640282533596427  |\n",
            "|delinq_2yrs               |176   |0.020561492297034124 |\n",
            "|earliest_cr_line          |1     |1.1682666077860296E-4|\n",
            "|inq_last_6mths            |151   |0.017640825777569046 |\n",
            "|open_acc                  |150   |0.017523999116790444 |\n",
            "|pub_rec                   |120   |0.014019199293432356 |\n",
            "|revol_bal                 |93    |0.010864879452410076 |\n",
            "|revol_util                |512   |0.059815250318644715 |\n",
            "|total_acc                 |52    |0.0060749863604873545|\n",
            "|initial_list_status       |14    |0.0016355732509004417|\n",
            "|out_prncp                 |84    |0.009813439505402649 |\n",
            "|out_prncp_inv             |82    |0.009579786183845444 |\n",
            "|total_pymnt               |59    |0.006892772985937575 |\n",
            "|total_pymnt_inv           |44    |0.005140373074258531 |\n",
            "|total_rec_prncp           |29    |0.0033879731625794858|\n",
            "|total_rec_int             |16    |0.0018692265724576473|\n",
            "|total_rec_late_fee        |22    |0.0025701865371292655|\n",
            "|recoveries                |18    |0.0021028798940148537|\n",
            "|collection_recovery_fee   |18    |0.0021028798940148537|\n",
            "|last_pymnt_d              |8869  |1.0361356544454297   |\n",
            "|last_pymnt_amnt           |63    |0.007360079629051986 |\n",
            "|next_pymnt_d              |252751|29.52805533845268    |\n",
            "|last_credit_pull_d        |102   |0.011916319399417502 |\n",
            "|collections_12_mths_ex_med|173   |0.020211012314698313 |\n",
            "|policy_code               |72    |0.008411519576059415 |\n",
            "|application_type          |57    |0.006659119664380368 |\n",
            "|acc_now_delinq            |143   |0.016706212491340224 |\n",
            "|tot_coll_amt              |0     |0.0                  |\n",
            "|tot_cur_bal               |0     |0.0                  |\n",
            "|total_rev_hi_lim          |0     |0.0                  |\n",
            "|default_ind               |223   |0.02605234535362846  |\n",
            "+--------------------------+------+---------------------+\n",
            "\n"
          ]
        }
      ],
      "source": [
        "total_rows = df.count()\n",
        "\n",
        "missing_data = []\n",
        "\n",
        "for c in df.columns:\n",
        "  null_count = df.select(count(when(col(c).isNull()|isnan(c), c)).alias('Count')).collect()[0]['Count']\n",
        "  percent = (null_count/total_rows)*100\n",
        "  missing_data.append((c, null_count, percent))\n",
        "\n",
        "df_null = spark.createDataFrame(missing_data, [\"Column Name\", \"Count\", \"Percent\"])\n",
        "\n",
        "df_null.show(df_null.count(), truncate=False)"
      ]
    },
    {
      "cell_type": "code",
      "execution_count": null,
      "metadata": {
        "colab": {
          "base_uri": "https://localhost:8080/"
        },
        "id": "NTuoNS5F6sat",
        "outputId": "1c7fd35d-8f45-46b7-cae3-16daf9ef1e4f"
      },
      "outputs": [
        {
          "name": "stdout",
          "output_type": "stream",
          "text": [
            "+-------+---------+---------+-----------+---------------+----------+--------+-----------+-----+---------+--------------------+----------+--------------+----------+-------------------+----------+----------+--------------+--------------------+--------+----------+-----+-----------+----------------+--------------+--------+-------+---------+----------+---------+-------------------+---------+-------------+-----------+---------------+---------------+-------------+------------------+----------+-----------------------+------------+---------------+------------+------------------+--------------------------+-----------+----------------+--------------+------------+-----------+----------------+-----------+\n",
            "|     id|member_id|loan_amnt|funded_amnt|funded_amnt_inv|      term|int_rate|installment|grade|sub_grade|           emp_title|emp_length|home_ownership|annual_inc|verification_status|   issue_d|pymnt_plan|       purpose|               title|zip_code|addr_state|  dti|delinq_2yrs|earliest_cr_line|inq_last_6mths|open_acc|pub_rec|revol_bal|revol_util|total_acc|initial_list_status|out_prncp|out_prncp_inv|total_pymnt|total_pymnt_inv|total_rec_prncp|total_rec_int|total_rec_late_fee|recoveries|collection_recovery_fee|last_pymnt_d|last_pymnt_amnt|next_pymnt_d|last_credit_pull_d|collections_12_mths_ex_med|policy_code|application_type|acc_now_delinq|tot_coll_amt|tot_cur_bal|total_rev_hi_lim|default_ind|\n",
            "+-------+---------+---------+-----------+---------------+----------+--------+-----------+-----+---------+--------------------+----------+--------------+----------+-------------------+----------+----------+--------------+--------------------+--------+----------+-----+-----------+----------------+--------------+--------+-------+---------+----------+---------+-------------------+---------+-------------+-----------+---------------+---------------+-------------+------------------+----------+-----------------------+------------+---------------+------------+------------------+--------------------------+-----------+----------------+--------------+------------+-----------+----------------+-----------+\n",
            "|1077501|  1296599|     5000|       5000|         4975.0| 36 months|   10.65|     162.87|    B|       B2|                NULL| 10+ years|          RENT|   24000.0|           Verified|01-12-2011|         n|   credit_card|            Computer|   860xx|        AZ|27.65|        0.0|      01-01-1985|           1.0|     3.0|    0.0|  13648.0|      83.7|      9.0|                  f|      0.0|          0.0|5861.071414|        5831.78|         5000.0|       861.07|               0.0|       0.0|                    0.0|  01-01-2015|         171.62|        NULL|        01-01-2016|                       0.0|          1|      INDIVIDUAL|             0|         0.0|    80935.0|         23800.0|          0|\n",
            "|1077430|  1314167|     2500|       2500|         2500.0| 60 months|   15.27|      59.83|    C|       C4|               Ryder|  < 1 year|          RENT|   30000.0|    Source Verified|01-12-2011|         n|           car|                bike|   309xx|        GA|  1.0|        0.0|      01-04-1999|           5.0|     3.0|    0.0|   1687.0|       9.4|      4.0|                  f|      0.0|          0.0|    1008.71|        1008.71|         456.46|       435.17|               0.0|    117.08|                   1.11|  01-04-2013|         119.66|        NULL|        01-09-2013|                       0.0|          1|      INDIVIDUAL|             0|         0.0|    80935.0|         23800.0|          1|\n",
            "|1077175|  1313524|     2400|       2400|         2400.0| 36 months|   15.96|      84.33|    C|       C5|                NULL| 10+ years|          RENT|   12252.0|       Not Verified|01-12-2011|         n|small_business|real estate business|   606xx|        IL| 8.72|        0.0|      01-11-2001|           2.0|     2.0|    0.0|   2956.0|      98.5|     10.0|                  f|      0.0|          0.0|3003.653644|        3003.65|         2400.0|       603.65|               0.0|       0.0|                    0.0|  01-06-2014|         649.91|        NULL|        01-01-2016|                       0.0|          1|      INDIVIDUAL|             0|         0.0|    80935.0|         23800.0|          0|\n",
            "|1076863|  1277178|    10000|      10000|        10000.0| 36 months|   13.49|     339.31|    C|       C1| AIR RESOURCES BOARD| 10+ years|          RENT|   49200.0|    Source Verified|01-12-2011|         n|         other|            personel|   917xx|        CA| 20.0|        0.0|      01-02-1996|           1.0|    10.0|    0.0|   5598.0|      21.0|     37.0|                  f|      0.0|          0.0|12226.30221|        12226.3|        10000.0|      2209.33|             16.97|       0.0|                    0.0|  01-01-2015|         357.48|        NULL|        01-01-2015|                       0.0|          1|      INDIVIDUAL|             0|         0.0|    80935.0|         23800.0|          0|\n",
            "|1075358|  1311748|     3000|       3000|         3000.0| 60 months|   12.69|      67.79|    B|       B5|University Medica...|    1 year|          RENT|   80000.0|    Source Verified|01-12-2011|         n|         other|            Personal|   972xx|        OR|17.94|        0.0|      01-01-1996|           0.0|    15.0|    0.0|  27783.0|      53.9|     38.0|                  f|    766.9|        766.9|    3242.17|        3242.17|         2233.1|      1009.07|               0.0|       0.0|                    0.0|  01-01-2016|          67.79|  01-02-2016|        01-01-2016|                       0.0|          1|      INDIVIDUAL|             0|         0.0|    80935.0|         23800.0|          0|\n",
            "+-------+---------+---------+-----------+---------------+----------+--------+-----------+-----+---------+--------------------+----------+--------------+----------+-------------------+----------+----------+--------------+--------------------+--------+----------+-----+-----------+----------------+--------------+--------+-------+---------+----------+---------+-------------------+---------+-------------+-----------+---------------+---------------+-------------+------------------+----------+-----------------------+------------+---------------+------------+------------------+--------------------------+-----------+----------------+--------------+------------+-----------+----------------+-----------+\n",
            "only showing top 5 rows\n",
            "\n"
          ]
        }
      ],
      "source": [
        "df.show(5)"
      ]
    },
    {
      "cell_type": "markdown",
      "metadata": {
        "id": "AJwur5ew6ulz"
      },
      "source": [
        "## Drop rows by checking null values and threshold"
      ]
    },
    {
      "cell_type": "code",
      "execution_count": null,
      "metadata": {
        "id": "k-iC8AYd6xpo"
      },
      "outputs": [],
      "source": [
        "df = df.drop(\"next_pymnt_d\")\n",
        "df = df.filter(col('default_ind').isNotNull())\n",
        "df = df.na.drop()"
      ]
    },
    {
      "cell_type": "code",
      "execution_count": null,
      "metadata": {
        "colab": {
          "base_uri": "https://localhost:8080/"
        },
        "id": "V_TJryrD6zOC",
        "outputId": "e1b0ad05-e0ed-486b-9187-987bd0fd97c3"
      },
      "outputs": [
        {
          "name": "stdout",
          "output_type": "stream",
          "text": [
            "id - Top value percentage: 0.00012538807609551562%\n",
            "member_id - Top value percentage: 0.00012538807609551562%\n",
            "loan_amnt - Top value percentage: 6.969696209769236%\n",
            "funded_amnt - Top value percentage: 6.9586620590728305%\n",
            "funded_amnt_inv - Top value percentage: 6.333978663964972%\n",
            "term - Top value percentage: 69.47414748647063%\n",
            "int_rate - Top value percentage: 4.027966556492344%\n",
            "installment - Top value percentage: 0.29754590457465857%\n",
            "grade - Top value percentage: 28.973422743390792%\n",
            "sub_grade - Top value percentage: 6.426765840275653%\n",
            "emp_title - Top value percentage: 1.6052181501747909%\n",
            "emp_length - Top value percentage: 34.653377202441554%\n",
            "home_ownership - Top value percentage: 50.34694880655629%\n",
            "annual_inc - Top value percentage: 3.8810117313083996%\n",
            "verification_status - Top value percentage: 38.147190554767%\n",
            "issue_d - Top value percentage: 5.6803306232790485%\n",
            "pymnt_plan - Top value percentage: 99.99937305961953%\n",
            "purpose - Top value percentage: 59.45877490834132%\n",
            "title - Top value percentage: 46.69978583716603%\n",
            "zip_code - Top value percentage: 1.1150761607174204%\n",
            "addr_state - Top value percentage: 14.676423530827911%\n",
            "dti - Top value percentage: 0.07849293563579278%\n",
            "delinq_2yrs - Top value percentage: 80.75092411012082%\n",
            "earliest_cr_line - Top value percentage: 0.7673750257045556%\n",
            "inq_last_6mths - Top value percentage: 56.38739398438166%\n",
            "open_acc - Top value percentage: 9.027063762344456%\n",
            "pub_rec - Top value percentage: 85.27893831408208%\n",
            "revol_bal - Top value percentage: 0.3260089978483406%\n",
            "revol_util - Top value percentage: 0.38556833399371054%\n",
            "total_acc - Top value percentage: 3.6450313720966387%\n",
            "initial_list_status - Top value percentage: 51.788911681654724%\n",
            "out_prncp - Top value percentage: 29.861922650603617%\n",
            "out_prncp_inv - Top value percentage: 29.861922650603617%\n",
            "total_pymnt - Top value percentage: 0.050155230438206244%\n",
            "total_pymnt_inv - Top value percentage: 0.06695723263500535%\n",
            "total_rec_prncp - Top value percentage: 1.7392580035208973%\n",
            "total_rec_int - Top value percentage: 0.058681619612701304%\n",
            "total_rec_late_fee - Top value percentage: 98.83301317577904%\n",
            "recoveries - Top value percentage: 97.22817118983254%\n",
            "collection_recovery_fee - Top value percentage: 97.35945250550454%\n",
            "last_pymnt_d - Top value percentage: 55.135268656491846%\n",
            "last_pymnt_amnt - Top value percentage: 0.23961661341853036%\n",
            "last_credit_pull_d - Top value percentage: 81.9314528465601%\n",
            "collections_12_mths_ex_med - Top value percentage: 98.7026095766397%\n",
            "policy_code - Top value percentage: 100.0%\n",
            "application_type - Top value percentage: 99.95962503949724%\n",
            "acc_now_delinq - Top value percentage: 99.5384464918924%\n",
            "tot_coll_amt - Top value percentage: 87.00603367422171%\n",
            "tot_cur_bal - Top value percentage: 7.8658447896238854%\n",
            "total_rev_hi_lim - Top value percentage: 8.051544530321344%\n",
            "default_ind - Top value percentage: 94.68642949930035%\n",
            "Dropped columns: ['pymnt_plan', 'policy_code', 'application_type', 'acc_now_delinq']\n",
            "root\n",
            " |-- id: integer (nullable = true)\n",
            " |-- member_id: integer (nullable = true)\n",
            " |-- loan_amnt: integer (nullable = true)\n",
            " |-- funded_amnt: integer (nullable = true)\n",
            " |-- funded_amnt_inv: double (nullable = true)\n",
            " |-- term: string (nullable = true)\n",
            " |-- int_rate: double (nullable = true)\n",
            " |-- installment: double (nullable = true)\n",
            " |-- grade: string (nullable = true)\n",
            " |-- sub_grade: string (nullable = true)\n",
            " |-- emp_title: string (nullable = true)\n",
            " |-- emp_length: string (nullable = true)\n",
            " |-- home_ownership: string (nullable = true)\n",
            " |-- annual_inc: double (nullable = true)\n",
            " |-- verification_status: string (nullable = true)\n",
            " |-- issue_d: string (nullable = true)\n",
            " |-- purpose: string (nullable = true)\n",
            " |-- title: string (nullable = true)\n",
            " |-- zip_code: string (nullable = true)\n",
            " |-- addr_state: string (nullable = true)\n",
            " |-- dti: double (nullable = true)\n",
            " |-- delinq_2yrs: double (nullable = true)\n",
            " |-- earliest_cr_line: string (nullable = true)\n",
            " |-- inq_last_6mths: double (nullable = true)\n",
            " |-- open_acc: double (nullable = true)\n",
            " |-- pub_rec: double (nullable = true)\n",
            " |-- revol_bal: double (nullable = true)\n",
            " |-- revol_util: double (nullable = true)\n",
            " |-- total_acc: double (nullable = true)\n",
            " |-- initial_list_status: string (nullable = true)\n",
            " |-- out_prncp: double (nullable = true)\n",
            " |-- out_prncp_inv: double (nullable = true)\n",
            " |-- total_pymnt: double (nullable = true)\n",
            " |-- total_pymnt_inv: double (nullable = true)\n",
            " |-- total_rec_prncp: double (nullable = true)\n",
            " |-- total_rec_int: double (nullable = true)\n",
            " |-- total_rec_late_fee: double (nullable = true)\n",
            " |-- recoveries: double (nullable = true)\n",
            " |-- collection_recovery_fee: double (nullable = true)\n",
            " |-- last_pymnt_d: string (nullable = true)\n",
            " |-- last_pymnt_amnt: double (nullable = true)\n",
            " |-- last_credit_pull_d: string (nullable = true)\n",
            " |-- collections_12_mths_ex_med: double (nullable = true)\n",
            " |-- tot_coll_amt: double (nullable = true)\n",
            " |-- tot_cur_bal: double (nullable = true)\n",
            " |-- total_rev_hi_lim: double (nullable = true)\n",
            " |-- default_ind: integer (nullable = true)\n",
            "\n"
          ]
        }
      ],
      "source": [
        "# Define the dominance threshold\n",
        "dominance_threshold = 99.0\n",
        "\n",
        "# List to hold columns to drop\n",
        "columns_to_drop = []\n",
        "\n",
        "# Analyze each column in the DataFrame\n",
        "for col_name in df.columns:\n",
        "    # Get the total number of records\n",
        "    total_count = df.count()\n",
        "\n",
        "    # Find the most frequent value and its count for the current column\n",
        "    top_value_data = df.groupBy(col_name).agg(count(col_name).alias('count')).orderBy('count', ascending=False).first()\n",
        "\n",
        "    # Calculate the percentage of the most frequent value\n",
        "    if top_value_data and total_count > 0:  # Ensure there is data and avoid division by zero\n",
        "        top_value_percentage = (top_value_data['count'] / total_count) * 100\n",
        "        print(f\"{col_name} - Top value percentage: {top_value_percentage}%\")\n",
        "\n",
        "        # Check if the top value percentage exceeds the dominance threshold\n",
        "        if top_value_percentage > dominance_threshold:\n",
        "            columns_to_drop.append(col_name)\n",
        "\n",
        "# Drop columns where the top value percentage exceeds the threshold\n",
        "if columns_to_drop:\n",
        "    df = df.drop(*columns_to_drop)\n",
        "    print(f\"Dropped columns: {columns_to_drop}\")\n",
        "else:\n",
        "    print(\"No columns exceeded the dominance threshold; no columns dropped.\")\n",
        "\n",
        "# Optionally, print the schema of the DataFrame to confirm the drops\n",
        "df.printSchema()"
      ]
    },
    {
      "cell_type": "code",
      "execution_count": null,
      "metadata": {
        "colab": {
          "base_uri": "https://localhost:8080/"
        },
        "id": "D5xsyZHz7CLe",
        "outputId": "f5f0bcdb-f8e9-4296-b236-4540b6ad3fac"
      },
      "outputs": [
        {
          "name": "stdout",
          "output_type": "stream",
          "text": [
            "+-------+---------+---------+-----------+---------------+----------+--------+-----------+-----+---------+--------------------+----------+--------------+----------+-------------------+----------+------------------+--------------------+--------+----------+-----+-----------+----------------+--------------+--------+-------+---------+----------+---------+-------------------+---------+-------------+-----------+---------------+---------------+-------------+------------------+----------+-----------------------+------------+---------------+------------------+--------------------------+------------+-----------+----------------+-----------+\n",
            "|     id|member_id|loan_amnt|funded_amnt|funded_amnt_inv|      term|int_rate|installment|grade|sub_grade|           emp_title|emp_length|home_ownership|annual_inc|verification_status|   issue_d|           purpose|               title|zip_code|addr_state|  dti|delinq_2yrs|earliest_cr_line|inq_last_6mths|open_acc|pub_rec|revol_bal|revol_util|total_acc|initial_list_status|out_prncp|out_prncp_inv|total_pymnt|total_pymnt_inv|total_rec_prncp|total_rec_int|total_rec_late_fee|recoveries|collection_recovery_fee|last_pymnt_d|last_pymnt_amnt|last_credit_pull_d|collections_12_mths_ex_med|tot_coll_amt|tot_cur_bal|total_rev_hi_lim|default_ind|\n",
            "+-------+---------+---------+-----------+---------------+----------+--------+-----------+-----+---------+--------------------+----------+--------------+----------+-------------------+----------+------------------+--------------------+--------+----------+-----+-----------+----------------+--------------+--------+-------+---------+----------+---------+-------------------+---------+-------------+-----------+---------------+---------------+-------------+------------------+----------+-----------------------+------------+---------------+------------------+--------------------------+------------+-----------+----------------+-----------+\n",
            "|1077430|  1314167|     2500|       2500|         2500.0| 60 months|   15.27|      59.83|    C|       C4|               Ryder|  < 1 year|          RENT|   30000.0|    Source Verified|01-12-2011|               car|                bike|   309xx|        GA|  1.0|        0.0|      01-04-1999|           5.0|     3.0|    0.0|   1687.0|       9.4|      4.0|                  f|      0.0|          0.0|    1008.71|        1008.71|         456.46|       435.17|               0.0|    117.08|                   1.11|  01-04-2013|         119.66|        01-09-2013|                       0.0|         0.0|    80935.0|         23800.0|          1|\n",
            "|1076863|  1277178|    10000|      10000|        10000.0| 36 months|   13.49|     339.31|    C|       C1| AIR RESOURCES BOARD| 10+ years|          RENT|   49200.0|    Source Verified|01-12-2011|             other|            personel|   917xx|        CA| 20.0|        0.0|      01-02-1996|           1.0|    10.0|    0.0|   5598.0|      21.0|     37.0|                  f|      0.0|          0.0|12226.30221|        12226.3|        10000.0|      2209.33|             16.97|       0.0|                    0.0|  01-01-2015|         357.48|        01-01-2015|                       0.0|         0.0|    80935.0|         23800.0|          0|\n",
            "|1075358|  1311748|     3000|       3000|         3000.0| 60 months|   12.69|      67.79|    B|       B5|University Medica...|    1 year|          RENT|   80000.0|    Source Verified|01-12-2011|             other|            Personal|   972xx|        OR|17.94|        0.0|      01-01-1996|           0.0|    15.0|    0.0|  27783.0|      53.9|     38.0|                  f|    766.9|        766.9|    3242.17|        3242.17|         2233.1|      1009.07|               0.0|       0.0|                    0.0|  01-01-2016|          67.79|        01-01-2016|                       0.0|         0.0|    80935.0|         23800.0|          0|\n",
            "|1075269|  1311441|     5000|       5000|         5000.0| 36 months|     7.9|     156.46|    A|       A4|Veolia Transportaton|   3 years|          RENT|   36000.0|    Source Verified|01-12-2011|           wedding|My wedding loan I...|   852xx|        AZ| 11.2|        0.0|      01-11-2004|           3.0|     9.0|    0.0|   7963.0|      28.3|     12.0|                  f|      0.0|          0.0|5631.377753|        5631.38|         5000.0|       631.38|               0.0|       0.0|                    0.0|  01-01-2015|         161.03|        01-09-2015|                       0.0|         0.0|    80935.0|         23800.0|          0|\n",
            "|1069639|  1304742|     7000|       7000|         7000.0| 60 months|   15.96|     170.08|    C|       C5|Southern Star Pho...|   8 years|          RENT|   47004.0|       Not Verified|01-12-2011|debt_consolidation|                Loan|   280xx|        NC|23.51|        0.0|      01-07-2005|           1.0|     7.0|    0.0|  17726.0|      85.6|     11.0|                  f|  1889.15|      1889.15|    8136.84|        8136.84|        5110.85|      3025.99|               0.0|       0.0|                    0.0|  01-01-2016|         170.08|        01-01-2016|                       0.0|         0.0|    80935.0|         23800.0|          0|\n",
            "+-------+---------+---------+-----------+---------------+----------+--------+-----------+-----+---------+--------------------+----------+--------------+----------+-------------------+----------+------------------+--------------------+--------+----------+-----+-----------+----------------+--------------+--------+-------+---------+----------+---------+-------------------+---------+-------------+-----------+---------------+---------------+-------------+------------------+----------+-----------------------+------------+---------------+------------------+--------------------------+------------+-----------+----------------+-----------+\n",
            "only showing top 5 rows\n",
            "\n"
          ]
        }
      ],
      "source": [
        "df.show(5)"
      ]
    },
    {
      "cell_type": "code",
      "execution_count": null,
      "metadata": {
        "id": "FzcMPPGV7CmS"
      },
      "outputs": [],
      "source": [
        "df = df.withColumn(\"home_ownership\",\n",
        "                   when(col(\"home_ownership\") == \"NONE\", \"OTHER\")\n",
        "                   .when(col(\"home_ownership\") == \"ANY\", \"OTHER\")\n",
        "                   .otherwise(col(\"home_ownership\")))"
      ]
    },
    {
      "cell_type": "markdown",
      "metadata": {
        "id": "EvbyWp2E7bsK"
      },
      "source": [
        "## Build Transformation Pipeline"
      ]
    },
    {
      "cell_type": "code",
      "execution_count": null,
      "metadata": {
        "colab": {
          "base_uri": "https://localhost:8080/"
        },
        "id": "3VDDcKll7iSV",
        "outputId": "493f8f5e-c22b-47a5-b490-cade90a80ae7"
      },
      "outputs": [
        {
          "name": "stdout",
          "output_type": "stream",
          "text": [
            "+-------+---------+---------+-----------+---------------+----------+--------+-----------+-----+---------+-------------------------+----------+--------------+----------+-------------------+----------+------------------+-------------------------------------+--------+----------+-----+-----------+----------------+--------------+--------+-------+---------+----------+---------+-------------------+---------+-------------+-----------+---------------+---------------+-------------+------------------+----------+-----------------------+------------+---------------+------------------+--------------------------+------------+-----------+----------------+-----------+---------------+---------------+-----------------------+-------------------+------------------+--------------------+-----------------------------------+--------------------------------+----------------------------+\n",
            "|id     |member_id|loan_amnt|funded_amnt|funded_amnt_inv|term      |int_rate|installment|grade|sub_grade|emp_title                |emp_length|home_ownership|annual_inc|verification_status|issue_d   |purpose           |title                                |zip_code|addr_state|dti  |delinq_2yrs|earliest_cr_line|inq_last_6mths|open_acc|pub_rec|revol_bal|revol_util|total_acc|initial_list_status|out_prncp|out_prncp_inv|total_pymnt|total_pymnt_inv|total_rec_prncp|total_rec_int|total_rec_late_fee|recoveries|collection_recovery_fee|last_pymnt_d|last_pymnt_amnt|last_credit_pull_d|collections_12_mths_ex_med|tot_coll_amt|tot_cur_bal|total_rev_hi_lim|default_ind|term__36_months|term__60_months|home_ownership_MORTGAGE|home_ownership_RENT|home_ownership_OWN|home_ownership_OTHER|verification_status_Source_Verified|verification_status_Not_Verified|verification_status_Verified|\n",
            "+-------+---------+---------+-----------+---------------+----------+--------+-----------+-----+---------+-------------------------+----------+--------------+----------+-------------------+----------+------------------+-------------------------------------+--------+----------+-----+-----------+----------------+--------------+--------+-------+---------+----------+---------+-------------------+---------+-------------+-----------+---------------+---------------+-------------+------------------+----------+-----------------------+------------+---------------+------------------+--------------------------+------------+-----------+----------------+-----------+---------------+---------------+-----------------------+-------------------+------------------+--------------------+-----------------------------------+--------------------------------+----------------------------+\n",
            "|1077430|1314167  |2500     |2500       |2500.0         | 60 months|15.27   |59.83      |C    |C4       |Ryder                    |< 1 year  |RENT          |30000.0   |Source Verified    |01-12-2011|car               |bike                                 |309xx   |GA        |1.0  |0.0        |01-04-1999      |5.0           |3.0     |0.0    |1687.0   |9.4       |4.0      |f                  |0.0      |0.0          |1008.71    |1008.71        |456.46         |435.17       |0.0               |117.08    |1.11                   |01-04-2013  |119.66         |01-09-2013        |0.0                       |0.0         |80935.0    |23800.0         |1          |0              |1              |0                      |1                  |0                 |0                   |1                                  |0                               |0                           |\n",
            "|1076863|1277178  |10000    |10000      |10000.0        | 36 months|13.49   |339.31     |C    |C1       |AIR RESOURCES BOARD      |10+ years |RENT          |49200.0   |Source Verified    |01-12-2011|other             |personel                             |917xx   |CA        |20.0 |0.0        |01-02-1996      |1.0           |10.0    |0.0    |5598.0   |21.0      |37.0     |f                  |0.0      |0.0          |12226.30221|12226.3        |10000.0        |2209.33      |16.97             |0.0       |0.0                    |01-01-2015  |357.48         |01-01-2015        |0.0                       |0.0         |80935.0    |23800.0         |0          |1              |0              |0                      |1                  |0                 |0                   |1                                  |0                               |0                           |\n",
            "|1075358|1311748  |3000     |3000       |3000.0         | 60 months|12.69   |67.79      |B    |B5       |University Medical Group |1 year    |RENT          |80000.0   |Source Verified    |01-12-2011|other             |Personal                             |972xx   |OR        |17.94|0.0        |01-01-1996      |0.0           |15.0    |0.0    |27783.0  |53.9      |38.0     |f                  |766.9    |766.9        |3242.17    |3242.17        |2233.1         |1009.07      |0.0               |0.0       |0.0                    |01-01-2016  |67.79          |01-01-2016        |0.0                       |0.0         |80935.0    |23800.0         |0          |0              |1              |0                      |1                  |0                 |0                   |1                                  |0                               |0                           |\n",
            "|1075269|1311441  |5000     |5000       |5000.0         | 36 months|7.9     |156.46     |A    |A4       |Veolia Transportaton     |3 years   |RENT          |36000.0   |Source Verified    |01-12-2011|wedding           |My wedding loan I promise to pay back|852xx   |AZ        |11.2 |0.0        |01-11-2004      |3.0           |9.0     |0.0    |7963.0   |28.3      |12.0     |f                  |0.0      |0.0          |5631.377753|5631.38        |5000.0         |631.38       |0.0               |0.0       |0.0                    |01-01-2015  |161.03         |01-09-2015        |0.0                       |0.0         |80935.0    |23800.0         |0          |1              |0              |0                      |1                  |0                 |0                   |1                                  |0                               |0                           |\n",
            "|1069639|1304742  |7000     |7000       |7000.0         | 60 months|15.96   |170.08     |C    |C5       |Southern Star Photography|8 years   |RENT          |47004.0   |Not Verified       |01-12-2011|debt_consolidation|Loan                                 |280xx   |NC        |23.51|0.0        |01-07-2005      |1.0           |7.0     |0.0    |17726.0  |85.6      |11.0     |f                  |1889.15  |1889.15      |8136.84    |8136.84        |5110.85        |3025.99      |0.0               |0.0       |0.0                    |01-01-2016  |170.08         |01-01-2016        |0.0                       |0.0         |80935.0    |23800.0         |0          |0              |1              |0                      |1                  |0                 |0                   |0                                  |1                               |0                           |\n",
            "+-------+---------+---------+-----------+---------------+----------+--------+-----------+-----+---------+-------------------------+----------+--------------+----------+-------------------+----------+------------------+-------------------------------------+--------+----------+-----+-----------+----------------+--------------+--------+-------+---------+----------+---------+-------------------+---------+-------------+-----------+---------------+---------------+-------------+------------------+----------+-----------------------+------------+---------------+------------------+--------------------------+------------+-----------+----------------+-----------+---------------+---------------+-----------------------+-------------------+------------------+--------------------+-----------------------------------+--------------------------------+----------------------------+\n",
            "only showing top 5 rows\n",
            "\n"
          ]
        }
      ],
      "source": [
        "categorical_columns = ['term', 'grade', 'home_ownership', 'verification_status', 'purpose', 'sub_grade', 'addr_state']\n",
        "\n",
        "# Define a UDF to extract a specific index from a SparseVector\n",
        "def extract_from_vector(vec, i):\n",
        "    try:\n",
        "        return int(vec.toArray()[i])\n",
        "    except IndexError:\n",
        "        return 0\n",
        "\n",
        "# Register the UDF\n",
        "extract_from_vector_udf = udf(extract_from_vector, IntegerType())\n",
        "\n",
        "# Filter categorical columns with fewer than 7 distinct categories\n",
        "filtered_columns = [c for c in categorical_columns if df.select(c).distinct().count() < 7]\n",
        "\n",
        "# Prepare stages for pipeline\n",
        "indexers = [StringIndexer(inputCol=c, outputCol=f\"{c}_Index\", handleInvalid=\"keep\") for c in filtered_columns]\n",
        "encoders = [OneHotEncoder(inputCols=[f\"{c}_Index\"], outputCols=[f\"{c}_OHE\"], dropLast=False) for c in filtered_columns]\n",
        "\n",
        "# Build the pipeline\n",
        "pipeline = Pipeline(stages=indexers + encoders)\n",
        "model = pipeline.fit(df)\n",
        "transformed_df = model.transform(df)\n",
        "\n",
        "# Convert one-hot encoded vectors to boolean columns for each category\n",
        "for i, indexer in enumerate(indexers):\n",
        "    column = indexer.getInputCol().replace('_Index', '')\n",
        "    categories = model.stages[i].labels  # Fetch category labels from the indexer\n",
        "    for j, category in enumerate(categories):\n",
        "        # Create a new column for each category, using the UDF to extract the value from the vector\n",
        "        transformed_df = transformed_df.withColumn(f\"{column}_{category.replace(' ', '_')}\", extract_from_vector_udf(col(f\"{column}_OHE\"), F.lit(j)))\n",
        "    transformed_df = transformed_df.drop(f\"{column}_OHE\", f\"{column}_Index\")  # Clean up the DataFrame\n",
        "\n",
        "# Show the transformed DataFrame structure\n",
        "transformed_df.show(5, truncate=False)"
      ]
    },
    {
      "cell_type": "code",
      "execution_count": null,
      "metadata": {
        "colab": {
          "base_uri": "https://localhost:8080/"
        },
        "id": "SzWMuA5O7muA",
        "outputId": "f8f57952-342a-4fe0-c406-c05b0c69bf98"
      },
      "outputs": [
        {
          "name": "stdout",
          "output_type": "stream",
          "text": [
            "root\n",
            " |-- id: integer (nullable = true)\n",
            " |-- member_id: integer (nullable = true)\n",
            " |-- loan_amnt: integer (nullable = true)\n",
            " |-- funded_amnt: integer (nullable = true)\n",
            " |-- funded_amnt_inv: double (nullable = true)\n",
            " |-- int_rate: double (nullable = true)\n",
            " |-- installment: double (nullable = true)\n",
            " |-- grade: string (nullable = true)\n",
            " |-- sub_grade: string (nullable = true)\n",
            " |-- emp_title: string (nullable = true)\n",
            " |-- emp_length: string (nullable = true)\n",
            " |-- annual_inc: double (nullable = true)\n",
            " |-- issue_d: string (nullable = true)\n",
            " |-- purpose: string (nullable = true)\n",
            " |-- title: string (nullable = true)\n",
            " |-- zip_code: string (nullable = true)\n",
            " |-- addr_state: string (nullable = true)\n",
            " |-- dti: double (nullable = true)\n",
            " |-- delinq_2yrs: double (nullable = true)\n",
            " |-- earliest_cr_line: string (nullable = true)\n",
            " |-- inq_last_6mths: double (nullable = true)\n",
            " |-- open_acc: double (nullable = true)\n",
            " |-- pub_rec: double (nullable = true)\n",
            " |-- revol_bal: double (nullable = true)\n",
            " |-- revol_util: double (nullable = true)\n",
            " |-- total_acc: double (nullable = true)\n",
            " |-- initial_list_status: string (nullable = true)\n",
            " |-- out_prncp: double (nullable = true)\n",
            " |-- out_prncp_inv: double (nullable = true)\n",
            " |-- total_pymnt: double (nullable = true)\n",
            " |-- total_pymnt_inv: double (nullable = true)\n",
            " |-- total_rec_prncp: double (nullable = true)\n",
            " |-- total_rec_int: double (nullable = true)\n",
            " |-- total_rec_late_fee: double (nullable = true)\n",
            " |-- recoveries: double (nullable = true)\n",
            " |-- collection_recovery_fee: double (nullable = true)\n",
            " |-- last_pymnt_d: string (nullable = true)\n",
            " |-- last_pymnt_amnt: double (nullable = true)\n",
            " |-- last_credit_pull_d: string (nullable = true)\n",
            " |-- collections_12_mths_ex_med: double (nullable = true)\n",
            " |-- tot_coll_amt: double (nullable = true)\n",
            " |-- tot_cur_bal: double (nullable = true)\n",
            " |-- total_rev_hi_lim: double (nullable = true)\n",
            " |-- default_ind: integer (nullable = true)\n",
            " |-- term__36_months: integer (nullable = true)\n",
            " |-- term__60_months: integer (nullable = true)\n",
            " |-- home_ownership_MORTGAGE: integer (nullable = true)\n",
            " |-- home_ownership_RENT: integer (nullable = true)\n",
            " |-- home_ownership_OWN: integer (nullable = true)\n",
            " |-- home_ownership_OTHER: integer (nullable = true)\n",
            " |-- verification_status_Source_Verified: integer (nullable = true)\n",
            " |-- verification_status_Not_Verified: integer (nullable = true)\n",
            " |-- verification_status_Verified: integer (nullable = true)\n",
            "\n"
          ]
        }
      ],
      "source": [
        "# Drop the specified columns\n",
        "transformed_df = transformed_df.drop(\"home_ownership\", \"verification_status\", \"term\")\n",
        "\n",
        "# Show the structure of the modified DataFrame\n",
        "transformed_df.printSchema()"
      ]
    },
    {
      "cell_type": "code",
      "execution_count": null,
      "metadata": {
        "id": "a4IVW2sr7rVu"
      },
      "outputs": [],
      "source": [
        "# List of all columns except 'default_ind'\n",
        "columns = [col for col in df.columns if col != 'default_ind']\n",
        "\n",
        "# Append 'default_ind' to the end of the list\n",
        "columns.append('default_ind')\n",
        "\n",
        "# Rearrange the DataFrame\n",
        "df = df.select(*columns)"
      ]
    },
    {
      "cell_type": "markdown",
      "metadata": {
        "id": "6eEJeDjn75q1"
      },
      "source": [
        "## Feature Selection by calculating Correlation Matrix for target variable"
      ]
    },
    {
      "cell_type": "code",
      "execution_count": null,
      "metadata": {
        "colab": {
          "base_uri": "https://localhost:8080/"
        },
        "id": "vB9mwDG18Cax",
        "outputId": "21eecc35-b36d-4278-ae9e-b00f73be1c2c"
      },
      "outputs": [
        {
          "name": "stdout",
          "output_type": "stream",
          "text": [
            "Most Relevant Features:\n",
            "default_ind: 1.0\n",
            "recoveries: 0.48080265355718005\n",
            "collection_recovery_fee: 0.33699004310396785\n",
            "out_prncp: -0.22347217766058045\n",
            "out_prncp_inv: -0.223471081994506\n",
            "member_id: -0.21741507367504356\n",
            "id: -0.2170605894354415\n",
            "int_rate: 0.15563491442792285\n",
            "total_rec_late_fee: 0.14231926960158683\n",
            "total_rec_prncp: -0.09055219851601892\n",
            "last_pymnt_amnt: -0.08754057732481188\n",
            "inq_last_6mths: 0.0733862377428352\n",
            "verification_status_Verified: 0.05158720369869314\n",
            "total_rec_int: 0.048793434525129964\n",
            "tot_cur_bal: -0.04545843510264604\n",
            "\n",
            "Least Relevant Features:\n",
            "revol_bal: -0.020900747805252386\n",
            "pub_rec: -0.019739708239587248\n",
            "total_acc: -0.01905579368206222\n",
            "open_acc: -0.019024766274326487\n",
            "verification_status_Not_Verified: -0.015765583916530462\n",
            "dti: 0.012953023277306042\n",
            "collections_12_mths_ex_med: -0.010779294773893965\n",
            "delinq_2yrs: -0.00954584944071254\n",
            "home_ownership_OTHER: 0.008721262667963138\n",
            "home_ownership_OWN: -0.008067799392603233\n",
            "installment: 0.006462360344170498\n",
            "funded_amnt_inv: -0.0059627935198225375\n",
            "funded_amnt: -0.003670578718554105\n",
            "loan_amnt: -0.0027911273559767936\n",
            "tot_coll_amt: -0.0023703716776752246\n"
          ]
        }
      ],
      "source": [
        "# Identify numeric columns only\n",
        "numeric_cols = [col for col in transformed_df.columns if isinstance(transformed_df.schema[col].dataType, (IntegerType, DoubleType))]\n",
        "\n",
        "# Assemble the numeric features into a single vector column\n",
        "assembler = VectorAssembler(inputCols=numeric_cols, outputCol=\"features\")\n",
        "transformed_vector = assembler.transform(transformed_df)\n",
        "\n",
        "# Get correlation matrix\n",
        "correlation_matrix = Correlation.corr(transformed_vector, \"features\", \"pearson\").head()\n",
        "\n",
        "# Extract the correlation values\n",
        "correlation_values = correlation_matrix[0].toArray()\n",
        "\n",
        "# Find indices of the target feature for correlation, assuming target feature is in the numeric_cols\n",
        "target_index = numeric_cols.index('default_ind')\n",
        "\n",
        "# Get correlations with the target\n",
        "target_correlations = correlation_values[target_index]\n",
        "\n",
        "# Create list of (feature, correlation) tuples\n",
        "feature_correlations = list(zip(numeric_cols, target_correlations))\n",
        "\n",
        "# Sort features by absolute correlation with the target\n",
        "sorted_features = sorted(feature_correlations, key=lambda x: abs(x[1]), reverse=True)\n",
        "\n",
        "# Most and Least relevant features\n",
        "most_relevant_features = sorted_features[:15]\n",
        "least_relevant_features = sorted_features[-15:]\n",
        "\n",
        "print(\"Most Relevant Features:\")\n",
        "for feature, corr in most_relevant_features:\n",
        "    print(f\"{feature}: {corr}\")\n",
        "\n",
        "print(\"\\nLeast Relevant Features:\")\n",
        "for feature, corr in least_relevant_features:\n",
        "    print(f\"{feature}: {corr}\")"
      ]
    },
    {
      "cell_type": "code",
      "execution_count": null,
      "metadata": {
        "colab": {
          "base_uri": "https://localhost:8080/",
          "height": 1000
        },
        "id": "yulPMwjw8GXT",
        "outputId": "bbe64b5c-f882-4b32-82c7-ffb9297d4f70"
      },
      "outputs": [
        {
          "data": {
            "image/png": "[encoded data removed]",
            "text/plain": [
              "<Figure size 1200x1000 with 2 Axes>"
            ]
          },
          "metadata": {},
          "output_type": "display_data"
        }
      ],
      "source": [
        "# Plotting the correlation matrix with labels\n",
        "plt.figure(figsize=(12, 10))\n",
        "plt.imshow(correlation_values, interpolation='nearest', cmap='coolwarm')\n",
        "plt.colorbar()\n",
        "plt.title('Correlation Matrix')\n",
        "plt.xticks(ticks=np.arange(len(numeric_cols)), labels=numeric_cols, rotation=90)\n",
        "plt.yticks(ticks=np.arange(len(numeric_cols)), labels=numeric_cols)\n",
        "plt.show()"
      ]
    },
    {
      "cell_type": "markdown",
      "metadata": {
        "id": "XPkJPoHM8KKb"
      },
      "source": [
        "## Feature Selection using RandomForestClassifier"
      ]
    },
    {
      "cell_type": "code",
      "execution_count": null,
      "metadata": {
        "colab": {
          "base_uri": "https://localhost:8080/"
        },
        "id": "RZj_tfvV83jm",
        "outputId": "bab3c51f-21aa-43c7-ce57-683ccfc71f7d"
      },
      "outputs": [
        {
          "name": "stdout",
          "output_type": "stream",
          "text": [
            "Features sorted by importance:\n",
            "recoveries: 0.3130381301614628\n",
            "collection_recovery_fee: 0.2229735510786283\n",
            "total_rec_prncp: 0.09842829371395921\n",
            "last_pymnt_amnt: 0.05844796642477594\n",
            "out_prncp_inv: 0.05782354719054393\n",
            "total_pymnt: 0.044765418680427604\n",
            "funded_amnt: 0.037351985289899574\n",
            "out_prncp: 0.03616609589688329\n",
            "installment: 0.025545307363609642\n",
            "id: 0.02410369508094905\n",
            "funded_amnt_inv: 0.022502505087929447\n",
            "total_pymnt_inv: 0.015591436214003735\n",
            "member_id: 0.01464344945621285\n",
            "total_rec_late_fee: 0.007871073200638052\n",
            "loan_amnt: 0.007391355774744599\n",
            "int_rate: 0.005762514293555615\n",
            "term__36_months: 0.0037169340978588303\n",
            "term__60_months: 0.002066830134391874\n",
            "total_rec_int: 0.0006789094635909348\n",
            "annual_inc: 0.00046819179465948726\n",
            "verification_status_Verified: 0.0002850336982954546\n",
            "tot_cur_bal: 0.0002393741238996366\n",
            "revol_bal: 4.852103823731774e-05\n",
            "revol_util: 4.560227602573505e-05\n",
            "dti: 3.2508545213591906e-05\n",
            "total_rev_hi_lim: 9.902181436132885e-06\n",
            "total_acc: 1.6588582229453605e-06\n",
            "inq_last_6mths: 2.0887994466637753e-07\n",
            "delinq_2yrs: 0.0\n",
            "open_acc: 0.0\n",
            "pub_rec: 0.0\n",
            "collections_12_mths_ex_med: 0.0\n",
            "tot_coll_amt: 0.0\n",
            "home_ownership_MORTGAGE: 0.0\n",
            "home_ownership_RENT: 0.0\n",
            "home_ownership_OWN: 0.0\n",
            "home_ownership_OTHER: 0.0\n",
            "verification_status_Source_Verified: 0.0\n",
            "verification_status_Not_Verified: 0.0\n"
          ]
        }
      ],
      "source": [
        "# Identify numeric columns only\n",
        "numeric_cols = [col for col in transformed_df.columns if isinstance(transformed_df.schema[col].dataType, (IntegerType, DoubleType)) and col != 'default_ind']\n",
        "\n",
        "# Assemble features into a feature vector\n",
        "assembler = VectorAssembler(\n",
        "    inputCols=numeric_cols,\n",
        "    outputCol=\"features\"\n",
        ")\n",
        "\n",
        "# Initialize the Random Forest model\n",
        "rf = RandomForestClassifier(featuresCol=\"features\", labelCol=\"default_ind\")\n",
        "\n",
        "# Create a pipeline\n",
        "pipeline = Pipeline(stages=[assembler, rf])\n",
        "\n",
        "# Fit the model\n",
        "model = pipeline.fit(transformed_df)\n",
        "\n",
        "# Get feature importances\n",
        "importances = model.stages[-1].featureImportances\n",
        "\n",
        "# Zip feature names with their importances\n",
        "feature_importance_list = list(zip(numeric_cols, importances))\n",
        "\n",
        "# Sort features by importance\n",
        "sorted_features = sorted(feature_importance_list, key=lambda x: x[1], reverse=True)\n",
        "\n",
        "# Output the sorted feature list\n",
        "print(\"Features sorted by importance:\")\n",
        "for feature, importance in sorted_features:\n",
        "    print(f\"{feature}: {importance}\")"
      ]
    },
    {
      "cell_type": "code",
      "execution_count": null,
      "metadata": {
        "id": "COK25Nnr87in"
      },
      "outputs": [],
      "source": [
        "transformed_df = transformed_df.drop(\"id\", \"total_acc\", \"collections_12_mths_ex_med\", \"title\", \"open_acc\", \"pub_rec\", \"tot_coll_amt\", \"emp_title\", \"member_id\")"
      ]
    },
    {
      "cell_type": "code",
      "execution_count": null,
      "metadata": {
        "colab": {
          "base_uri": "https://localhost:8080/"
        },
        "id": "iaXp_fsXvPZg",
        "outputId": "0a209a0f-f2d0-44f8-866f-907943dba111"
      },
      "outputs": [
        {
          "name": "stdout",
          "output_type": "stream",
          "text": [
            "+---------+-----------+---------------+--------+-----------+-----+---------+----------+----------+----------+--------------+--------+----------+-----+-----------+----------------+--------------+---------+----------+-------------------+---------+-------------+-----------+---------------+---------------+-------------+------------------+----------+-----------------------+------------+---------------+------------------+-----------+----------------+---------------+---------------+-----------------------+-------------------+------------------+--------------------+-----------------------------------+----------------------------+--------------------------------+-----------+\n",
            "|loan_amnt|funded_amnt|funded_amnt_inv|int_rate|installment|grade|sub_grade|emp_length|annual_inc|   issue_d|       purpose|zip_code|addr_state|  dti|delinq_2yrs|earliest_cr_line|inq_last_6mths|revol_bal|revol_util|initial_list_status|out_prncp|out_prncp_inv|total_pymnt|total_pymnt_inv|total_rec_prncp|total_rec_int|total_rec_late_fee|recoveries|collection_recovery_fee|last_pymnt_d|last_pymnt_amnt|last_credit_pull_d|tot_cur_bal|total_rev_hi_lim|term__36_months|term__60_months|home_ownership_MORTGAGE|home_ownership_RENT|home_ownership_OWN|home_ownership_OTHER|verification_status_Source_Verified|verification_status_Verified|verification_status_Not_Verified|default_ind|\n",
            "+---------+-----------+---------------+--------+-----------+-----+---------+----------+----------+----------+--------------+--------+----------+-----+-----------+----------------+--------------+---------+----------+-------------------+---------+-------------+-----------+---------------+---------------+-------------+------------------+----------+-----------------------+------------+---------------+------------------+-----------+----------------+---------------+---------------+-----------------------+-------------------+------------------+--------------------+-----------------------------------+----------------------------+--------------------------------+-----------+\n",
            "|     5000|       5000|         4975.0|   10.65|     162.87|    B|       B2| 10+ years|   24000.0|01-12-2011|   credit_card|   860xx|        AZ|27.65|        0.0|      01-01-1985|           1.0|  13648.0|      83.7|                  f|      0.0|          0.0|5861.071414|        5831.78|         5000.0|       861.07|               0.0|       0.0|                    0.0|  01-01-2015|         171.62|        01-01-2016|    80935.0|         23800.0|              1|              0|                      0|                  1|                 0|                   0|                                  0|                           1|                               0|          0|\n",
            "|     2500|       2500|         2500.0|   15.27|      59.83|    C|       C4|  < 1 year|   30000.0|01-12-2011|           car|   309xx|        GA|  1.0|        0.0|      01-04-1999|           5.0|   1687.0|       9.4|                  f|      0.0|          0.0|    1008.71|        1008.71|         456.46|       435.17|               0.0|    117.08|                   1.11|  01-04-2013|         119.66|        01-09-2013|    80935.0|         23800.0|              0|              1|                      0|                  1|                 0|                   0|                                  1|                           0|                               0|          1|\n",
            "|     2400|       2400|         2400.0|   15.96|      84.33|    C|       C5| 10+ years|   12252.0|01-12-2011|small_business|   606xx|        IL| 8.72|        0.0|      01-11-2001|           2.0|   2956.0|      98.5|                  f|      0.0|          0.0|3003.653644|        3003.65|         2400.0|       603.65|               0.0|       0.0|                    0.0|  01-06-2014|         649.91|        01-01-2016|    80935.0|         23800.0|              1|              0|                      0|                  1|                 0|                   0|                                  0|                           0|                               1|          0|\n",
            "|    10000|      10000|        10000.0|   13.49|     339.31|    C|       C1| 10+ years|   49200.0|01-12-2011|         other|   917xx|        CA| 20.0|        0.0|      01-02-1996|           1.0|   5598.0|      21.0|                  f|      0.0|          0.0|12226.30221|        12226.3|        10000.0|      2209.33|             16.97|       0.0|                    0.0|  01-01-2015|         357.48|        01-01-2015|    80935.0|         23800.0|              1|              0|                      0|                  1|                 0|                   0|                                  1|                           0|                               0|          0|\n",
            "|     3000|       3000|         3000.0|   12.69|      67.79|    B|       B5|    1 year|   80000.0|01-12-2011|         other|   972xx|        OR|17.94|        0.0|      01-01-1996|           0.0|  27783.0|      53.9|                  f|    766.9|        766.9|    3242.17|        3242.17|         2233.1|      1009.07|               0.0|       0.0|                    0.0|  01-01-2016|          67.79|        01-01-2016|    80935.0|         23800.0|              0|              1|                      0|                  1|                 0|                   0|                                  1|                           0|                               0|          0|\n",
            "+---------+-----------+---------------+--------+-----------+-----+---------+----------+----------+----------+--------------+--------+----------+-----+-----------+----------------+--------------+---------+----------+-------------------+---------+-------------+-----------+---------------+---------------+-------------+------------------+----------+-----------------------+------------+---------------+------------------+-----------+----------------+---------------+---------------+-----------------------+-------------------+------------------+--------------------+-----------------------------------+----------------------------+--------------------------------+-----------+\n",
            "only showing top 5 rows\n",
            "\n"
          ]
        }
      ],
      "source": [
        "transformed_df.show(5)"
      ]
    },
    {
      "cell_type": "markdown",
      "metadata": {
        "id": "MV-NxbuP1tWx"
      },
      "source": [
        "## Feature Scaling"
      ]
    },
    {
      "cell_type": "code",
      "execution_count": null,
      "metadata": {
        "id": "8lKevYTG0XXi"
      },
      "outputs": [],
      "source": [
        "from pyspark.ml.feature import VectorAssembler, StandardScaler\n",
        "from pyspark.sql.functions import udf, col\n",
        "from pyspark.ml.linalg import DenseVector\n",
        "from pyspark.sql.types import ArrayType, DoubleType\n",
        "\n",
        "# List of numerical columns for scaling, adjusted based on the existing columns\n",
        "numerical_columns = ['loan_amnt', 'funded_amnt', 'funded_amnt_inv', 'int_rate', 'installment', 'annual_inc',\n",
        "                     'dti', 'delinq_2yrs', 'inq_last_6mths', 'revol_bal', 'revol_util', 'out_prncp',\n",
        "                     'out_prncp_inv', 'total_pymnt', 'total_pymnt_inv', 'total_rec_prncp', 'total_rec_int',\n",
        "                     'total_rec_late_fee', 'recoveries', 'collection_recovery_fee', 'last_pymnt_amnt',\n",
        "                     'tot_cur_bal', 'total_rev_hi_lim']\n",
        "\n",
        "# Assemble numerical features into a single vector\n",
        "assembler = VectorAssembler(inputCols=numerical_columns, outputCol=\"unscaled_features\")\n",
        "transformed_df = assembler.transform(df)\n",
        "\n",
        "# Apply StandardScaler to the assembled features\n",
        "scaler = StandardScaler(inputCol=\"unscaled_features\", outputCol=\"scaled_features\", withMean=True, withStd=True)\n",
        "scaler_model = scaler.fit(transformed_df)\n",
        "transformed_df = scaler_model.transform(transformed_df)\n",
        "\n",
        "# Define a UDF to convert Vector to array of doubles\n",
        "def vector_to_array(v):\n",
        "    return v.toArray().tolist()\n",
        "\n",
        "vector_to_array_udf = udf(vector_to_array, ArrayType(DoubleType()))\n",
        "\n",
        "# Convert the scaled_features column from vector to array\n",
        "transformed_df = transformed_df.withColumn(\"scaled_features_array\", vector_to_array_udf(col(\"scaled_features\")))\n",
        "\n",
        "# Overwrite the original columns with the scaled values\n",
        "for i, col_name in enumerate(numerical_columns):\n",
        "    transformed_df = transformed_df.withColumn(col_name, col(\"scaled_features_array\")[i])\n",
        "\n",
        "# Drop the intermediate columns\n",
        "transformed_df = transformed_df.drop(\"unscaled_features\", \"scaled_features\", \"scaled_features_array\")"
      ]
    },
    {
      "cell_type": "code",
      "execution_count": null,
      "metadata": {
        "colab": {
          "base_uri": "https://localhost:8080/"
        },
        "id": "VkVPSq2l2U2v",
        "outputId": "50e4fb3a-4392-4c98-e855-3f01617f7a6c"
      },
      "outputs": [
        {
          "name": "stdout",
          "output_type": "stream",
          "text": [
            "+-------------------+-------------------+-------------------+--------------------+--------------------+-----+---------+----------+-------------------+----------+--------------+--------+----------+--------------------+-------------------+----------------+------------------+--------------------+--------------------+-------------------+-------------------+-------------------+--------------------+--------------------+--------------------+--------------------+--------------------+--------------------+-----------------------+------------+--------------------+------------------+-------------------+-------------------+---------------+---------------+-----------------------+-------------------+------------------+--------------------+-----------------------------------+----------------------------+--------------------------------+-----------+\n",
            "|          loan_amnt|        funded_amnt|    funded_amnt_inv|            int_rate|         installment|grade|sub_grade|emp_length|         annual_inc|   issue_d|       purpose|zip_code|addr_state|                 dti|        delinq_2yrs|earliest_cr_line|    inq_last_6mths|           revol_bal|          revol_util|initial_list_status|          out_prncp|      out_prncp_inv|         total_pymnt|     total_pymnt_inv|     total_rec_prncp|       total_rec_int|  total_rec_late_fee|          recoveries|collection_recovery_fee|last_pymnt_d|     last_pymnt_amnt|last_credit_pull_d|        tot_cur_bal|   total_rev_hi_lim|term__36_months|term__60_months|home_ownership_MORTGAGE|home_ownership_RENT|home_ownership_OWN|home_ownership_OTHER|verification_status_Source_Verified|verification_status_Verified|verification_status_Not_Verified|default_ind|\n",
            "+-------------------+-------------------+-------------------+--------------------+--------------------+-----+---------+----------+-------------------+----------+--------------+--------+----------+--------------------+-------------------+----------------+------------------+--------------------+--------------------+-------------------+-------------------+-------------------+--------------------+--------------------+--------------------+--------------------+--------------------+--------------------+-----------------------+------------+--------------------+------------------+-------------------+-------------------+---------------+---------------+-----------------------+-------------------+------------------+--------------------+-----------------------------------+----------------------------+--------------------------------+-----------+\n",
            "|-1.1574978635011264|-1.1567338604948179|-1.1551262372144446| -0.5832902470210084| -1.1225194486407128|    B|       B2| 10+ years|-0.7974836225584876|01-12-2011|   credit_card|   860xx|        AZ|  0.5464063537174678|-0.3633185873049472|      01-01-1985|0.3303204231049117|-0.14693349804902422|  1.2035001104001952|                  f|-0.9757652974672304|-0.9757631019862665|-0.23642840523610226|-0.23697520462148122|-0.13629838979538744| -0.4376191880216884|-0.08885306081555977|-0.11435811806698513|   -0.07966576706600416|  01-01-2015| -0.4253110659636703|        01-01-2016|-0.3646833583594943|-0.2118903002675386|              1|              0|                      0|                  1|                 0|                   0|                                  0|                           1|                               0|          0|\n",
            "| -1.454400957194763|-1.4538450995182943|-1.4490577945797103|  0.4741505600851613| -1.5454662719361265|    C|       C4|  < 1 year|-0.7037258060188002|01-12-2011|           car|   309xx|        GA| -0.9801821897978946|-0.3633185873049472|      01-04-1999|4.4775401821971705| -0.6850975177242207| -1.9182189315096259|                  f|-0.9757652974672304|-0.9757631019862665| -0.8497370313811486| -0.8484401950929014| -0.8160675350326854| -0.6418994465429331|-0.08885306081555977|  0.1714042573093129|   -0.06171589795806208|  01-04-2013|-0.43594771287603384|        01-09-2013|-0.3646833583594943|-0.2118903002675386|              0|              1|                      0|                  1|                 0|                   0|                                  1|                           0|                               0|          1|\n",
            "|-1.4662770809425083|-1.4657295490792335| -1.460933817099519|  0.6320800312763428| -1.4449014702014833|    C|       C5| 10+ years|-0.9810614273431956|01-12-2011|small_business|   606xx|        IL| -0.5379584165919434|-0.3633185873049472|      01-11-2001|1.3671253628779765| -0.6280011093162428|   1.825323015114399|                  f|-0.9757652974672304|-0.9757631019862665| -0.5975884296697526| -0.5955232836462387| -0.5252901842149313| -0.5610890733199717|-0.08885306081555977|-0.11435811806698513|   -0.07966576706600416|  01-06-2014| -0.3274010996104303|        01-01-2016|-0.3646833583594943|-0.2118903002675386|              1|              0|                      0|                  1|                 0|                   0|                                  0|                           0|                               1|          0|\n",
            "|-0.5636916761138532|-0.5625113824478648|-0.5583561055940571| 0.06673830107023018|-0.39828868871987855|    C|       C1| 10+ years|-0.4037007930918003|01-12-2011|         other|   917xx|        CA| 0.10819238156390232|-0.3633185873049472|      01-02-1996|0.3303204231049117| -0.5091289966181516| -1.4308442224093039|                  f|-0.9757652974672304|-0.9757631019862665|  0.5680976021069484|  0.5737169708744799|  0.6117627533191201|  0.2090652481226022|   4.598426851510363|-0.11435811806698513|   -0.07966576706600416|  01-01-2015| -0.3872639682898465|        01-01-2015|-0.3646833583594943|-0.2118903002675386|              1|              0|                      0|                  1|                 0|                   0|                                  1|                           0|                               0|          0|\n",
            "|-1.3950203384560356| -1.394422851713599|-1.3896776819806667|-0.11636833219490762|   -1.51279297308683|    B|       B5|    1 year|0.07758933181192856|01-12-2011|         other|   972xx|        OR|-0.00981033512058...|-0.3633185873049472|      01-01-1996|-0.706484516668153|  0.4890458028546546|-0.04854871125408042|                  f|-0.8848079509333091|-0.8847689551902732| -0.5674414298627257| -0.5652839071646113| -0.5502604651720936|-0.36663191809648477|-0.08885306081555977|-0.11435811806698513|   -0.07966576706600416|  01-01-2016|-0.44656593603508493|        01-01-2016|-0.3646833583594943|-0.2118903002675386|              0|              1|                      0|                  1|                 0|                   0|                                  1|                           0|                               0|          0|\n",
            "+-------------------+-------------------+-------------------+--------------------+--------------------+-----+---------+----------+-------------------+----------+--------------+--------+----------+--------------------+-------------------+----------------+------------------+--------------------+--------------------+-------------------+-------------------+-------------------+--------------------+--------------------+--------------------+--------------------+--------------------+--------------------+-----------------------+------------+--------------------+------------------+-------------------+-------------------+---------------+---------------+-----------------------+-------------------+------------------+--------------------+-----------------------------------+----------------------------+--------------------------------+-----------+\n",
            "only showing top 5 rows\n",
            "\n"
          ]
        }
      ],
      "source": [
        "transformed_df.show(5)"
      ]
    },
    {
      "cell_type": "markdown",
      "metadata": {
        "id": "ZjwrWh428_h7"
      },
      "source": [
        "## Split dataset into 80% train, 10% val, 10% test"
      ]
    },
    {
      "cell_type": "code",
      "execution_count": null,
      "metadata": {
        "colab": {
          "base_uri": "https://localhost:8080/"
        },
        "id": "NVQ5QfNvzrRR",
        "outputId": "5b6f0107-86e4-4431-9e04-0a4821c3283f"
      },
      "outputs": [
        {
          "name": "stdout",
          "output_type": "stream",
          "text": [
            "Training Set Row Count: 676909\n",
            "Validation Set Row Count: 84420\n",
            "Testing Set Row Count: 84988\n"
          ]
        }
      ],
      "source": [
        "# Randomly split the DataFrame into training, validation, and testing sets\n",
        "train_df, val_df, test_df = transformed_df.randomSplit([0.8, 0.1, 0.1], seed=42)\n",
        "\n",
        "# Show the row count for each DataFrame to verify the split\n",
        "print(\"Training Set Row Count:\", train_df.count())\n",
        "print(\"Validation Set Row Count:\", val_df.count())\n",
        "print(\"Testing Set Row Count:\", test_df.count())"
      ]
    },
    {
      "cell_type": "code",
      "execution_count": null,
      "metadata": {
        "id": "6dN4lmLy9Euk"
      },
      "outputs": [],
      "source": [
        "# Save the training set\n",
        "train_df.coalesce(1).write.csv(path=\"/content/drive/MyDrive/train_data\", mode='overwrite', header=True)\n",
        "\n",
        "# Save the validation set\n",
        "val_df.coalesce(1).write.csv(path=\"/content/drive/MyDrive/validation_data\", mode='overwrite', header=True)\n",
        "\n",
        "# Save the testing set\n",
        "test_df.coalesce(1).write.csv(path=\"/content/drive/MyDrive/test_data\", mode='overwrite', header=True)"
      ]
    },
    {
      "cell_type": "code",
      "execution_count": null,
      "metadata": {
        "id": "pKcU0KfI9G5C"
      },
      "outputs": [],
      "source": [
        "transformed_df.coalesce(1).write.csv(path=\"/content/drive/MyDrive/dataV2.csv\", mode='overwrite', header=True)"
      ]
    },
    {
      "cell_type": "markdown",
      "metadata": {
        "id": "8HrIIM1T3chz"
      },
      "source": [
        "# Stage2-Modelling"
      ]
    },
    {
      "cell_type": "code",
      "execution_count": 4,
      "metadata": {
        "id": "w8Nbcxa_3i1T"
      },
      "outputs": [],
      "source": [
        "#Create Spark session\n",
        "spark = SparkSession.builder.getOrCreate()\n",
        "spark.sparkContext.setLogLevel(\"Error\")"
      ]
    },
    {
      "cell_type": "markdown",
      "metadata": {
        "id": "Spo9CaBeMmNK"
      },
      "source": [
        "### Data Loading"
      ]
    },
    {
      "cell_type": "code",
      "execution_count": 7,
      "metadata": {
        "id": "6kDHmwWSJS6a"
      },
      "outputs": [],
      "source": [
        "# Read Spark dataframe\n",
        "train_data = spark.read.csv(\"/content/drive/MyDrive/UOW/316/316-project/data/train_data.csv\", inferSchema=True, header=True)\n",
        "test_data = spark.read.csv(\"/content/drive/MyDrive/UOW/316/316-project/data/validation_data.csv\", inferSchema=True, header=True)\n",
        "val_data = spark.read.csv(\"/content/drive/MyDrive/UOW/316/316-project/data/test_data.csv\", inferSchema=True, header=True)\n",
        "\n",
        "# Convert Spark DataFrames to Pandas DataFrames\n",
        "train_data_pd = train_data.toPandas()\n",
        "val_data_pd = val_data.toPandas()\n",
        "test_data_pd = test_data.toPandas()"
      ]
    },
    {
      "cell_type": "markdown",
      "metadata": {
        "id": "jWPXo43bM0E0"
      },
      "source": [
        "#### Dataset format for Neural Network"
      ]
    },
    {
      "cell_type": "code",
      "execution_count": null,
      "metadata": {
        "id": "Xdx0Z14xQIaf"
      },
      "outputs": [],
      "source": [
        "def encode_columns(df):\n",
        "    for col_info in df.dtypes:\n",
        "        if col_info[1] == 'string':\n",
        "            indexer = StringIndexer(inputCol=col_info[0], outputCol=f\"{col_info[0]}_encoded\")\n",
        "            df = indexer.fit(df).transform(df)\n",
        "            df = df.drop(col_info[0])\n",
        "    return df"
      ]
    },
    {
      "cell_type": "code",
      "execution_count": null,
      "metadata": {
        "id": "H38oGPtwKDeC"
      },
      "outputs": [],
      "source": [
        "# Splitting each DataFrame into features and labels\n",
        "# For training data\n",
        "X_train = encode_columns(train_data).drop(\"member_id\").toPandas()\n",
        "y_train = train_data_pd[['default_ind']] # Select only the target column for labels\n",
        "\n",
        "# For validation data\n",
        "X_val = encode_columns(val_data).drop(\"member_id\").toPandas()\n",
        "y_val = val_data_pd[['default_ind']]\n",
        "\n",
        "# For testing data\n",
        "X_test = encode_columns(test_data).drop(\"member_id\").toPandas()\n",
        "y_test = test_data_pd[['default_ind']]\n",
        "\n",
        "print(\"Shape of X_train:\", X_train.shape)\n",
        "print(\"Shape of y_train:\", y_train.shape)\n",
        "\n",
        "print(\"Shape of X_val:\", X_val.shape)\n",
        "print(\"Shape of y_val:\", y_val.shape)\n",
        "\n",
        "print(\"Shape of X_test:\", X_test.shape)\n",
        "print(\"Shape of y_test:\", y_test.shape)"
      ]
    },
    {
      "cell_type": "markdown",
      "metadata": {
        "id": "7m6P1BB0M5fx"
      },
      "source": [
        "#### Dataset format for GB and RF"
      ]
    },
    {
      "cell_type": "code",
      "execution_count": null,
      "metadata": {
        "id": "FbdDNnQrMqt7"
      },
      "outputs": [],
      "source": [
        "# Convert pandas dataframe to TensorFlow dataframe (For GB and RF)\n",
        "tfdf_train = tfdf.keras.pd_dataframe_to_tf_dataset(train_data_pd, label=\"default_ind\")\n",
        "tfdf_val= tfdf.keras.pd_dataframe_to_tf_dataset(val_data_pd, label=\"default_ind\")\n",
        "tfdf_test = tfdf.keras.pd_dataframe_to_tf_dataset(test_data_pd, label=\"default_ind\")"
      ]
    },
    {
      "cell_type": "markdown",
      "metadata": {
        "id": "HbKgvrPv3kij"
      },
      "source": [
        "### Tensorflow"
      ]
    },
    {
      "cell_type": "markdown",
      "metadata": {
        "id": "DIl6zMKY3pRs"
      },
      "source": [
        "#### Training"
      ]
    },
    {
      "cell_type": "markdown",
      "metadata": {
        "id": "zOQXC7SgML9S"
      },
      "source": [
        "##### Gradient Boosted Tree"
      ]
    },
    {
      "cell_type": "code",
      "execution_count": null,
      "metadata": {
        "colab": {
          "base_uri": "https://localhost:8080/"
        },
        "id": "C2DeIbQN0Mpq",
        "outputId": "07b5e4f9-675c-4dd5-9d83-faeed10a5372"
      },
      "outputs": [
        {
          "name": "stdout",
          "output_type": "stream",
          "text": [
            "Use /tmp/tmpuvjsvtbj as temporary training directory\n",
            "Reading training dataset...\n"
          ]
        },
        {
          "name": "stderr",
          "output_type": "stream",
          "text": [
            "WARNING:tensorflow:6 out of the last 6 calls to <function CoreModel._consumes_training_examples_until_eof at 0x7c05a2e8ea70> triggered tf.function retracing. Tracing is expensive and the excessive number of tracings could be due to (1) creating @tf.function repeatedly in a loop, (2) passing tensors with different shapes, (3) passing Python objects instead of tensors. For (1), please define your @tf.function outside of the loop. For (2), @tf.function has reduce_retracing=True option that can avoid unnecessary retracing. For (3), please refer to https://www.tensorflow.org/guide/function#controlling_retracing and https://www.tensorflow.org/api_docs/python/tf/function for  more details.\n"
          ]
        },
        {
          "name": "stdout",
          "output_type": "stream",
          "text": [
            "Training dataset read in 0:00:18.906212. Found 676909 examples.\n",
            "Reading validation dataset...\n",
            "Num validation examples: tf.Tensor(84988, shape=(), dtype=int32)\n",
            "Validation dataset read in 0:00:02.413227. Found 84988 examples.\n",
            "Training model...\n",
            "Model trained in 0:01:29.210878\n",
            "Compiling model...\n"
          ]
        },
        {
          "name": "stderr",
          "output_type": "stream",
          "text": [
            "WARNING:tensorflow:5 out of the last 5 calls to <function InferenceCoreModel.make_predict_function.<locals>.predict_function_trained at 0x7c056bc07d00> triggered tf.function retracing. Tracing is expensive and the excessive number of tracings could be due to (1) creating @tf.function repeatedly in a loop, (2) passing tensors with different shapes, (3) passing Python objects instead of tensors. For (1), please define your @tf.function outside of the loop. For (2), @tf.function has reduce_retracing=True option that can avoid unnecessary retracing. For (3), please refer to https://www.tensorflow.org/guide/function#controlling_retracing and https://www.tensorflow.org/api_docs/python/tf/function for  more details.\n"
          ]
        },
        {
          "name": "stdout",
          "output_type": "stream",
          "text": [
            "Model compiled.\n",
            "85/85 [==============================] - 2s 24ms/step - loss: 0.0000e+00 - accuracy: 0.9962\n",
            "Accuracy: 0.9961641430854797\n"
          ]
        }
      ],
      "source": [
        "## Gradient Boosted Tree\n",
        "gbt = tfdf.keras.GradientBoostedTreesModel(\n",
        "    task=tfdf.keras.Task.CLASSIFICATION,\n",
        "    num_trees=5,\n",
        "    max_depth=10\n",
        ")\n",
        "gbt.compile(metrics=[\"accuracy\"])\n",
        "\n",
        "# Train the model\n",
        "history=gbt.fit(tfdf_train, validation_data=tfdf_val)\n",
        "\n",
        "# Evaluate the model on the val set\n",
        "val_results = gbt.evaluate(tfdf_val)\n",
        "\n",
        "# Print the accuracy\n",
        "accuracy = val_results[1]\n",
        "print(\"Accuracy:\", accuracy)"
      ]
    },
    {
      "cell_type": "markdown",
      "metadata": {
        "id": "EC47Kgb3MSVH"
      },
      "source": [
        "##### Random Forest Tree"
      ]
    },
    {
      "cell_type": "code",
      "execution_count": null,
      "metadata": {
        "colab": {
          "base_uri": "https://localhost:8080/"
        },
        "id": "ACvp3xW5HugG",
        "outputId": "877d3f0c-1ec9-4287-ebed-c0d5459069e3"
      },
      "outputs": [
        {
          "name": "stdout",
          "output_type": "stream",
          "text": [
            "Use /tmp/tmpp87gm2pb as temporary training directory\n",
            "Reading training dataset...\n",
            "Training dataset read in 0:00:17.914852. Found 676909 examples.\n",
            "Training model...\n",
            "Model trained in 0:19:27.641824\n",
            "Compiling model...\n",
            "Model compiled.\n"
          ]
        },
        {
          "data": {
            "text/plain": [
              "<tf_keras.src.callbacks.History at 0x789b84d844f0>"
            ]
          },
          "execution_count": 12,
          "metadata": {},
          "output_type": "execute_result"
        }
      ],
      "source": [
        "####################### Random Forest Tree #######################\n",
        "rft_model = tfdf.keras.RandomForestModel(\n",
        "    task=tfdf.keras.Task.CLASSIFICATION,\n",
        "    num_trees=5,\n",
        "    max_depth=10)\n",
        "\n",
        "rft_model.compile(metrics=[\"accuracy\"])\n",
        "\n",
        "# Train the model\n",
        "rft_model.fit(tfdf_train)"
      ]
    },
    {
      "cell_type": "markdown",
      "metadata": {
        "id": "oQbXl1B2MU2f"
      },
      "source": [
        "##### Neural Network"
      ]
    },
    {
      "cell_type": "code",
      "execution_count": null,
      "metadata": {
        "colab": {
          "base_uri": "https://localhost:8080/"
        },
        "id": "iTfY1gmDHvGc",
        "outputId": "9ff001d4-418e-4366-ba78-4ea89c858780"
      },
      "outputs": [
        {
          "name": "stdout",
          "output_type": "stream",
          "text": [
            "Epoch 1/40\n",
            "21154/21154 [==============================] - 47s 2ms/step - loss: 2.3149 - accuracy: 0.9718 - val_loss: 0.1971 - val_accuracy: 0.9508\n",
            "Epoch 2/40\n",
            "21154/21154 [==============================] - 46s 2ms/step - loss: 0.1604 - accuracy: 0.9664 - val_loss: 0.0645 - val_accuracy: 0.9895\n",
            "Epoch 3/40\n",
            "21154/21154 [==============================] - 45s 2ms/step - loss: 0.1198 - accuracy: 0.9774 - val_loss: 0.1471 - val_accuracy: 0.9662\n",
            "Epoch 4/40\n",
            "21154/21154 [==============================] - 45s 2ms/step - loss: 0.1280 - accuracy: 0.9776 - val_loss: 0.1124 - val_accuracy: 0.9760\n",
            "Epoch 5/40\n",
            "21154/21154 [==============================] - 43s 2ms/step - loss: 0.0900 - accuracy: 0.9844 - val_loss: 0.0944 - val_accuracy: 0.9808\n",
            "Epoch 6/40\n",
            "21154/21154 [==============================] - 45s 2ms/step - loss: 0.1018 - accuracy: 0.9791 - val_loss: 0.0488 - val_accuracy: 0.9918\n",
            "Epoch 7/40\n",
            "21154/21154 [==============================] - 44s 2ms/step - loss: 0.0752 - accuracy: 0.9900 - val_loss: 0.0378 - val_accuracy: 0.9946\n",
            "Epoch 8/40\n",
            "21154/21154 [==============================] - 44s 2ms/step - loss: 0.0639 - accuracy: 0.9940 - val_loss: 0.0462 - val_accuracy: 0.9920\n",
            "Epoch 9/40\n",
            "21154/21154 [==============================] - 44s 2ms/step - loss: 0.0488 - accuracy: 0.9925 - val_loss: 0.0516 - val_accuracy: 0.9908\n",
            "Epoch 10/40\n",
            "21154/21154 [==============================] - 44s 2ms/step - loss: 0.0369 - accuracy: 0.9949 - val_loss: 0.0220 - val_accuracy: 0.9981\n",
            "Epoch 11/40\n",
            "21154/21154 [==============================] - 44s 2ms/step - loss: 0.0286 - accuracy: 0.9964 - val_loss: 0.0130 - val_accuracy: 0.9982\n",
            "Epoch 12/40\n",
            "21154/21154 [==============================] - 46s 2ms/step - loss: 0.0269 - accuracy: 0.9961 - val_loss: 0.0248 - val_accuracy: 0.9962\n",
            "Epoch 13/40\n",
            "21154/21154 [==============================] - 44s 2ms/step - loss: 0.0333 - accuracy: 0.9950 - val_loss: 0.0155 - val_accuracy: 0.9976\n",
            "Epoch 14/40\n",
            "21154/21154 [==============================] - 47s 2ms/step - loss: 0.0325 - accuracy: 0.9960 - val_loss: 0.0792 - val_accuracy: 0.9846\n",
            "Epoch 15/40\n",
            "21154/21154 [==============================] - 45s 2ms/step - loss: 0.0400 - accuracy: 0.9940 - val_loss: 0.0281 - val_accuracy: 0.9956\n",
            "Epoch 16/40\n",
            "21154/21154 [==============================] - 45s 2ms/step - loss: 0.0277 - accuracy: 0.9962 - val_loss: 0.0156 - val_accuracy: 0.9977\n",
            "Epoch 17/40\n",
            "21154/21154 [==============================] - 45s 2ms/step - loss: 0.0324 - accuracy: 0.9966 - val_loss: 0.0209 - val_accuracy: 0.9976\n",
            "Epoch 18/40\n",
            "21154/21154 [==============================] - 45s 2ms/step - loss: 0.0303 - accuracy: 0.9966 - val_loss: 0.0121 - val_accuracy: 0.9984\n",
            "Epoch 19/40\n",
            "21154/21154 [==============================] - 47s 2ms/step - loss: 0.0220 - accuracy: 0.9968 - val_loss: 0.0121 - val_accuracy: 0.9984\n",
            "Epoch 20/40\n",
            "21154/21154 [==============================] - 46s 2ms/step - loss: 0.0211 - accuracy: 0.9974 - val_loss: 0.0129 - val_accuracy: 0.9982\n",
            "Epoch 21/40\n",
            "21154/21154 [==============================] - 44s 2ms/step - loss: 0.0228 - accuracy: 0.9968 - val_loss: 0.0229 - val_accuracy: 0.9965\n",
            "Epoch 22/40\n",
            "21154/21154 [==============================] - 46s 2ms/step - loss: 0.0214 - accuracy: 0.9970 - val_loss: 0.0187 - val_accuracy: 0.9972\n",
            "Epoch 23/40\n",
            "21154/21154 [==============================] - 46s 2ms/step - loss: 0.0208 - accuracy: 0.9970 - val_loss: 0.0151 - val_accuracy: 0.9979\n",
            "Epoch 24/40\n",
            "21154/21154 [==============================] - 46s 2ms/step - loss: 0.0189 - accuracy: 0.9974 - val_loss: 0.0187 - val_accuracy: 0.9982\n",
            "Epoch 25/40\n",
            "21154/21154 [==============================] - 44s 2ms/step - loss: 0.0271 - accuracy: 0.9976 - val_loss: 0.0110 - val_accuracy: 0.9985\n",
            "Epoch 26/40\n",
            "21154/21154 [==============================] - 44s 2ms/step - loss: 0.0432 - accuracy: 0.9976 - val_loss: 0.0667 - val_accuracy: 0.9946\n",
            "Epoch 27/40\n",
            "21154/21154 [==============================] - 46s 2ms/step - loss: 0.0834 - accuracy: 0.9748 - val_loss: 0.0439 - val_accuracy: 0.9952\n",
            "Epoch 28/40\n",
            "21154/21154 [==============================] - 46s 2ms/step - loss: 0.0387 - accuracy: 0.9941 - val_loss: 0.0195 - val_accuracy: 0.9968\n",
            "Epoch 29/40\n",
            "21154/21154 [==============================] - 44s 2ms/step - loss: 0.0329 - accuracy: 0.9921 - val_loss: 0.0388 - val_accuracy: 0.9936\n",
            "Epoch 30/40\n",
            "21154/21154 [==============================] - 44s 2ms/step - loss: 0.0328 - accuracy: 0.9928 - val_loss: 0.0226 - val_accuracy: 0.9974\n",
            "Epoch 31/40\n",
            "21154/21154 [==============================] - 43s 2ms/step - loss: 0.0403 - accuracy: 0.9915 - val_loss: 0.1016 - val_accuracy: 0.9456\n",
            "Epoch 32/40\n",
            "21154/21154 [==============================] - 44s 2ms/step - loss: 0.0490 - accuracy: 0.9865 - val_loss: 0.0244 - val_accuracy: 0.9967\n",
            "Epoch 33/40\n",
            "21154/21154 [==============================] - 43s 2ms/step - loss: 0.0299 - accuracy: 0.9953 - val_loss: 0.0142 - val_accuracy: 0.9982\n",
            "Epoch 34/40\n",
            "21154/21154 [==============================] - 44s 2ms/step - loss: 0.0272 - accuracy: 0.9956 - val_loss: 0.0158 - val_accuracy: 0.9979\n",
            "Epoch 35/40\n",
            "21154/21154 [==============================] - 45s 2ms/step - loss: 0.0290 - accuracy: 0.9952 - val_loss: 0.0153 - val_accuracy: 0.9980\n",
            "Epoch 35: early stopping\n"
          ]
        },
        {
          "data": {
            "text/plain": [
              "<keras.callbacks.History at 0x7bbffd1d2c50>"
            ]
          },
          "execution_count": 12,
          "metadata": {},
          "output_type": "execute_result"
        }
      ],
      "source": [
        "##################### Neural Network #####################\n",
        "\n",
        "# define the keras model\n",
        "def build_model(n_hidden=1, n_neurons=30, input_shape=(X_train.shape[1],)):\n",
        "\n",
        "    model = Sequential()\n",
        "    model.add(Dense(n_neurons,activation='relu', input_shape=input_shape))\n",
        "\n",
        "    # Vary the number of hidden layers and number of neurons in each layer\n",
        "    for _ in range(n_hidden-1):\n",
        "        model.add(Dense(n_neurons, activation=\"relu\"))\n",
        "\n",
        "    # Fix the output layer\n",
        "    model.add(Dense(1, activation=\"sigmoid\"))\n",
        "\n",
        "    # Fix the loss function and metrics\n",
        "    model.compile(optimizer='Adam',\n",
        "              loss='binary_crossentropy',\n",
        "              metrics=['accuracy'])\n",
        "    return model\n",
        "\n",
        "# build the keras model\n",
        "nn_model = build_model(n_hidden=4, n_neurons=64, input_shape=(X_train.shape[1],))\n",
        "early_stop = EarlyStopping(monitor='val_loss', mode='min', verbose=1, patience=10)\n",
        "# Fit the Keras model\n",
        "nn_model.fit(x=X_train,\n",
        "          y=y_train,\n",
        "          epochs=40,\n",
        "          verbose=1,\n",
        "          validation_data=(X_val, y_val),\n",
        "          callbacks=[early_stop])"
      ]
    },
    {
      "cell_type": "markdown",
      "metadata": {
        "id": "V-f2ZatoZG4I"
      },
      "source": [
        "#### Evaluation"
      ]
    },
    {
      "cell_type": "markdown",
      "metadata": {
        "id": "pqQDC3ChMc5g"
      },
      "source": [
        "##### Gradient Boosted Tree"
      ]
    },
    {
      "cell_type": "code",
      "execution_count": null,
      "metadata": {
        "colab": {
          "base_uri": "https://localhost:8080/"
        },
        "id": "YdG8uk5bZJSA",
        "outputId": "cb6c8961-6144-46a8-a5ea-8220f48390bc"
      },
      "outputs": [
        {
          "name": "stdout",
          "output_type": "stream",
          "text": [
            "85/85 [==============================] - 2s 26ms/step\n",
            "Precision: 0.9991256830601093\n",
            "Recall: 0.988538062283737\n",
            "ROC AUC: 0.9996580855011945\n",
            "\n",
            "85/85 [==============================] - 4s 47ms/step\n",
            "[[2.5153703e-03]\n",
            " [6.1177392e-04]\n",
            " [2.1951289e-01]\n",
            " [9.0897046e-03]\n",
            " [9.9490535e-01]]\n",
            "Confusion Matrix:\n",
            "[[79842     1]\n",
            " [   69  4508]]\n",
            "\n",
            "Classification Report:\n",
            "              precision    recall  f1-score   support\n",
            "\n",
            "           0       1.00      1.00      1.00     79843\n",
            "           1       1.00      0.98      0.99      4577\n",
            "\n",
            "    accuracy                           1.00     84420\n",
            "   macro avg       1.00      0.99      1.00     84420\n",
            "weighted avg       1.00      1.00      1.00     84420\n",
            "\n",
            "\n"
          ]
        }
      ],
      "source": [
        "################# Gradient Boosted Tree ##################\n",
        "gbt.make_inspector().evaluation()\n",
        "\n",
        "############### Evaluate on Validation Data ###############\n",
        "probs = (gbt.predict(tfdf_val))\n",
        "y_pred = probs.round(0)\n",
        "\n",
        "# Extract the true labels from the validation dataset\n",
        "y_true = np.concatenate([y for _, y in tfdf_val.as_numpy_iterator()])\n",
        "\n",
        "# Calculate precision, recall, and ROC\n",
        "precision = precision_score(y_true, y_pred)\n",
        "recall = recall_score(y_true, y_pred)\n",
        "roc_auc = roc_auc_score(y_true, probs)\n",
        "\n",
        "# Print precision, recall, and ROC\n",
        "print(\"Precision:\", precision)\n",
        "print(\"Recall:\", recall)\n",
        "print(\"ROC AUC:\", roc_auc)\n",
        "print()\n",
        "\n",
        "\n",
        "############### Evaluate on Test Data ###############\n",
        "# Make predictions on the test set\n",
        "predictions = gbt.predict(tfdf_test)\n",
        "\n",
        "# Print out the first few predictions to understand the structure\n",
        "print(predictions[:5])\n",
        "\n",
        "#Convert probabilities to class labels (using 0.5 as threshold)\n",
        "y_pred = (predictions > 0.5).astype(int).flatten()\n",
        "\n",
        "# Convert true labels to numpy array\n",
        "y_true = test_data_pd[\"default_ind\"].values\n",
        "\n",
        "# Confusion matrix\n",
        "conf_matrix = confusion_matrix(y_true, y_pred)\n",
        "print(\"Confusion Matrix:\")\n",
        "print(conf_matrix)\n",
        "print()\n",
        "\n",
        "# Classification report\n",
        "class_report = classification_report(y_true, y_pred)\n",
        "print(\"Classification Report:\")\n",
        "print(class_report)\n",
        "print()"
      ]
    },
    {
      "cell_type": "markdown",
      "metadata": {
        "id": "1hG4q65sMf-8"
      },
      "source": [
        "##### Random Forest Tree"
      ]
    },
    {
      "cell_type": "code",
      "execution_count": null,
      "metadata": {
        "colab": {
          "base_uri": "https://localhost:8080/"
        },
        "id": "9Hcmf9Tsacok",
        "outputId": "4e0660f2-2e86-4391-add6-ad73bda90206"
      },
      "outputs": [
        {
          "name": "stdout",
          "output_type": "stream",
          "text": [
            "85/85 [==============================] - 5s 57ms/step\n",
            "Validation Data Accuracy: 0.9992822516119922\n",
            "Validation Data Precision: 1.0\n",
            "Validation Data Recall: 0.9868079584775087\n",
            "Validation Data ROC AUC: 0.9998784630816463\n",
            "Validation Data Confusion Matrix:\n",
            "[[80364     0]\n",
            " [   61  4563]]\n",
            "85/85 [==============================] - 6s 67ms/step - loss: 0.0000e+00\n",
            "Test Data Evaluation: 0.0\n",
            "85/85 [==============================] - 5s 56ms/step\n",
            "Test Data Accuracy: 0.9989931295901445\n",
            "Test Data Precision: 1.0\n",
            "Test Data Recall: 0.9814288835481757\n",
            "Test Data ROC AUC: 0.9999876710743107\n",
            "Test Data Confusion Matrix:\n",
            "[[79843     0]\n",
            " [   85  4492]]\n"
          ]
        }
      ],
      "source": [
        "################# Random Forest Tree ##################\n",
        "\n",
        "############### Evaluate on Validation Data ###############\n",
        "# Evaluate the model on validation data\n",
        "val_predictions = rft_model.predict(tfdf_val)\n",
        "\n",
        "# Extract the true labels and predicted probabilities\n",
        "true_labels_val = val_data_pd[\"default_ind\"]\n",
        "predicted_probabilities_val = val_predictions[:, 0]  # Assuming the model returns probabilities for the positive class\n",
        "\n",
        "# Convert probabilities to binary predictions with a threshold of 0.5\n",
        "predicted_labels_val = (predicted_probabilities_val >= 0.5).astype(int)\n",
        "\n",
        "# Calculate evaluation metrics for validation data\n",
        "val_accuracy = accuracy_score(true_labels_val, predicted_labels_val)\n",
        "val_precision = precision_score(true_labels_val, predicted_labels_val, zero_division=0)\n",
        "val_recall = recall_score(true_labels_val, predicted_labels_val, zero_division=0)\n",
        "val_roc_auc = roc_auc_score(true_labels_val, predicted_probabilities_val)\n",
        "\n",
        "# Print evaluation metrics for validation data\n",
        "print(f\"Validation Data Accuracy: {val_accuracy}\")\n",
        "print(f\"Validation Data Precision: {val_precision}\")\n",
        "print(f\"Validation Data Recall: {val_recall}\")\n",
        "print(f\"Validation Data ROC AUC: {val_roc_auc}\")\n",
        "\n",
        "# Print the confusion matrix for validation data\n",
        "val_conf_matrix = confusion_matrix(true_labels_val, predicted_labels_val)\n",
        "print(f\"Validation Data Confusion Matrix:\\n{val_conf_matrix}\")\n",
        "\n",
        "\n",
        "\n",
        "############### Evaluate on Test Data ###############\n",
        "# Evaluate the model on test data\n",
        "evaluation = rft_model.evaluate(tfdf_test)\n",
        "print(f\"Test Data Evaluation: {evaluation}\")\n",
        "\n",
        "# Make predictions on test data\n",
        "test_predictions = rft_model.predict(tfdf_test)\n",
        "\n",
        "# Extract the true labels and predicted probabilities\n",
        "true_labels_test = test_data_pd[\"default_ind\"]\n",
        "predicted_probabilities_test = test_predictions[:, 0]  # Assuming the model returns probabilities for the positive class\n",
        "\n",
        "# Convert probabilities to binary predictions with a threshold of 0.5\n",
        "predicted_labels_test = (predicted_probabilities_test >= 0.5).astype(int)\n",
        "\n",
        "# Calculate evaluation metrics for test data\n",
        "test_accuracy = accuracy_score(true_labels_test, predicted_labels_test)\n",
        "test_precision = precision_score(true_labels_test, predicted_labels_test, zero_division=0)\n",
        "test_recall = recall_score(true_labels_test, predicted_labels_test, zero_division=0)\n",
        "test_roc_auc = roc_auc_score(true_labels_test, predicted_probabilities_test)\n",
        "\n",
        "# Print evaluation metrics for test data\n",
        "print(f\"Test Data Accuracy: {test_accuracy}\")\n",
        "print(f\"Test Data Precision: {test_precision}\")\n",
        "print(f\"Test Data Recall: {test_recall}\")\n",
        "print(f\"Test Data ROC AUC: {test_roc_auc}\")\n",
        "\n",
        "# Print the confusion matrix for test data\n",
        "test_conf_matrix = confusion_matrix(true_labels_test, predicted_labels_test)\n",
        "print(f\"Test Data Confusion Matrix:\\n{test_conf_matrix}\")\n"
      ]
    },
    {
      "cell_type": "markdown",
      "metadata": {
        "id": "ymIQBKUVMjWy"
      },
      "source": [
        "##### Neural Network"
      ]
    },
    {
      "cell_type": "code",
      "execution_count": null,
      "metadata": {
        "colab": {
          "base_uri": "https://localhost:8080/"
        },
        "id": "lniWm-Bd9k_F",
        "outputId": "e3c5e97f-a96c-49d2-c087-073ecf4530e8"
      },
      "outputs": [
        {
          "name": "stdout",
          "output_type": "stream",
          "text": [
            "Test Loss: 0.028894230723381042\n",
            "Test Accuracy: 0.9934493899345398\n"
          ]
        }
      ],
      "source": [
        "test_results = nn_model.evaluate(X_test, y_test, verbose=0)\n",
        "\n",
        "print(\"Test Loss:\", test_results[0])\n",
        "print(\"Test Accuracy:\", test_results[1])"
      ]
    },
    {
      "cell_type": "markdown",
      "metadata": {
        "id": "vReVvM464WcJ"
      },
      "source": [
        "#### Tuning"
      ]
    },
    {
      "cell_type": "code",
      "execution_count": null,
      "metadata": {
        "id": "xgthYs-Y4YTO"
      },
      "outputs": [],
      "source": [
        "!pip install tensorflow==2.12.0\n",
        "from tensorflow.keras.wrappers.scikit_learn import KerasClassifier"
      ]
    },
    {
      "cell_type": "code",
      "execution_count": null,
      "metadata": {
        "id": "h6qrCMVAQJl1"
      },
      "outputs": [],
      "source": [
        "import tensorflow_decision_forests as tfdf\n",
        "\n",
        "class ModelTuner:\n",
        "    def __init__(self, model_type):\n",
        "        self.model_type = model_type\n",
        "        self.model = None\n",
        "        self.grid_search = None\n",
        "\n",
        "    def tune_parameters(self, X_train, y_train, param_grid):\n",
        "        if self.model_type == 'GBT':\n",
        "\n",
        "            # Add discretized hyperparameters for the tuner\n",
        "            tuner = tfdf.tuner.RandomSearch(num_trials=3)\n",
        "            tuner.choice(\"max_depth\", param_grid.get(\"max_depth\", []))\n",
        "            tuner.choice(\"num_trees\", param_grid.get(\"num_trees\", []))\n",
        "\n",
        "            # Create GBT model with a random search tuner\n",
        "            self.model = tfdf.keras.GradientBoostedTreesModel(\n",
        "                task=tfdf.keras.Task.CLASSIFICATION,\n",
        "                tuner=tuner\n",
        "            )\n",
        "            self.model.compile(metrics=[\"accuracy\"])\n",
        "\n",
        "            # Cannot use val when tuning according to documentation\n",
        "            self.model.fit(X_train)\n",
        "\n",
        "            # Display the tuning logs.\n",
        "            tuning_logs = self.model.make_inspector().tuning_logs()\n",
        "\n",
        "            print()\n",
        "            print(\"Best Hyperparameters\")\n",
        "            print(tuning_logs[tuning_logs.best].iloc[0])\n",
        "\n",
        "            # Evaluate the model on the val set\n",
        "            val_results = self.model.evaluate(y_train)\n",
        "\n",
        "            # Print the accuracy\n",
        "            accuracy = val_results[1]\n",
        "            print(\"Accuracy:\", accuracy)\n",
        "\n",
        "            return tuning_logs\n",
        "\n",
        "        elif self.model_type == 'NN':\n",
        "            # Create and tune a Neural Network model using KerasClassifier wrapped with GridSearchCV\n",
        "            self.model = KerasClassifier(build_fn=build_model, verbose=0)\n",
        "            self.grid_search = GridSearchCV(self.model, param_grid, cv=3, scoring='accuracy')\n",
        "            self.grid_search.fit(X_train, y_train, batch_size=32, validation_data=(X_val, y_val))\n",
        "            print(\"Best Parameters:\", self.grid_search.best_params_)\n",
        "            return self.grid_search.best_params_\n",
        "\n",
        "        elif self.model_type == 'RF':\n",
        "            # Add discretized hyperparameters for the tuner\n",
        "            tuner = tfdf.tuner.RandomSearch(num_trials=3)\n",
        "            tuner.choice(\"max_depth\", param_grid.get(\"max_depth\", []))\n",
        "            tuner.choice(\"num_trees\", param_grid.get(\"num_trees\", []))\n",
        "\n",
        "            # Create RF model with a random search tuner\n",
        "            self.model = tfdf.keras.RandomForestModel(\n",
        "                task=tfdf.keras.Task.CLASSIFICATION,\n",
        "                tuner=tuner\n",
        "            )\n",
        "\n",
        "            self.model.compile(metrics=[\"accuracy\"])\n",
        "\n",
        "             # Cannot use val when tuning according to documentation\n",
        "            self.model.fit(X_train)\n",
        "\n",
        "            # Display the tuning logs.\n",
        "            tuning_logs = self.model.make_inspector().tuning_logs()\n",
        "\n",
        "            print()\n",
        "            print(\"Best Hyperparameters\")\n",
        "            print(tuning_logs[tuning_logs.best].iloc[0])\n",
        "\n",
        "            # Evaluate the model on the val set\n",
        "            val_results = self.model.evaluate(y_train)\n",
        "\n",
        "            # Print the accuracy\n",
        "            accuracy = val_results[1]\n",
        "            print(\"Accuracy:\", accuracy)\n",
        "\n",
        "            return tuning_logs\n",
        "\n",
        "        else:\n",
        "            raise ValueError(\"Unsupported model type\")\n"
      ]
    },
    {
      "cell_type": "markdown",
      "metadata": {
        "id": "fz6_td-4NGzm"
      },
      "source": [
        "###### Gradient Boosted Tree"
      ]
    },
    {
      "cell_type": "code",
      "execution_count": null,
      "metadata": {
        "colab": {
          "base_uri": "https://localhost:8080/"
        },
        "id": "d5MLJ6D91KMQ",
        "outputId": "6bc34cff-f229-443d-f98c-acb7f548d7aa"
      },
      "outputs": [
        {
          "name": "stdout",
          "output_type": "stream",
          "text": [
            "Use /tmp/tmpnxzfkiuu as temporary training directory\n",
            "Reading training dataset...\n",
            "Training dataset read in 0:00:24.304041. Found 676909 examples.\n",
            "Training model...\n",
            "Model trained in 0:09:05.484934\n",
            "Compiling model...\n",
            "Model compiled.\n"
          ]
        },
        {
          "name": "stderr",
          "output_type": "stream",
          "text": [
            "WARNING:tensorflow:6 out of the last 10 calls to <function InferenceCoreModel.yggdrasil_model_path_tensor at 0x7c056a44ea70> triggered tf.function retracing. Tracing is expensive and the excessive number of tracings could be due to (1) creating @tf.function repeatedly in a loop, (2) passing tensors with different shapes, (3) passing Python objects instead of tensors. For (1), please define your @tf.function outside of the loop. For (2), @tf.function has reduce_retracing=True option that can avoid unnecessary retracing. For (3), please refer to https://www.tensorflow.org/guide/function#controlling_retracing and https://www.tensorflow.org/api_docs/python/tf/function for  more details.\n"
          ]
        },
        {
          "name": "stdout",
          "output_type": "stream",
          "text": [
            "\n",
            "Best Hyperparameters\n",
            "score               -0.051649\n",
            "evaluation_time    544.429521\n",
            "best                     True\n",
            "max_depth                  10\n",
            "num_trees                  15\n",
            "Name: 2, dtype: object\n",
            "85/85 [==============================] - 3s 26ms/step - loss: 0.0000e+00 - accuracy: 0.9984\n",
            "Accuracy: 0.9983644485473633\n"
          ]
        }
      ],
      "source": [
        "model_tuner = ModelTuner(model_type='GBT')\n",
        "param_grid = {\n",
        "    \"num_trees\": [10, 15],\n",
        "    \"max_depth\": [5, 10]\n",
        "}\n",
        "tunning_logs = model_tuner.tune_parameters(X_train=tfdf_train, y_train=tfdf_val, param_grid=param_grid)"
      ]
    },
    {
      "cell_type": "markdown",
      "metadata": {
        "id": "vxO5Vb6kkSAc"
      },
      "source": [
        "##### Random Forest Tree"
      ]
    },
    {
      "cell_type": "code",
      "execution_count": null,
      "metadata": {
        "colab": {
          "base_uri": "https://localhost:8080/"
        },
        "id": "IE3epHGKkUV2",
        "outputId": "b827298c-c00a-442e-bae0-fc82d5529e93"
      },
      "outputs": [
        {
          "name": "stdout",
          "output_type": "stream",
          "text": [
            "Use /tmp/tmpsuemwvrm as temporary training directory\n",
            "Reading training dataset...\n",
            "Training dataset read in 0:00:48.127731. Found 676909 examples.\n",
            "Training model...\n",
            "Model trained in 0:02:59.810163\n",
            "Compiling model...\n",
            "Model compiled.\n",
            "\n",
            "Best Hyperparameters\n",
            "score                0.996474\n",
            "evaluation_time    177.317566\n",
            "best                     True\n",
            "max_depth                  10\n",
            "num_trees                  15\n",
            "Name: 2, dtype: object\n",
            "85/85 [==============================] - 11s 35ms/step - loss: 0.0000e+00 - accuracy: 0.9978\n",
            "Accuracy: 0.9977761507034302\n"
          ]
        }
      ],
      "source": [
        "model_tuner = ModelTuner(model_type='RF')\n",
        "param_grid = {\n",
        "    \"num_trees\": [10, 15],\n",
        "    \"max_depth\": [5, 10]\n",
        "}\n",
        "rf_tunning_logs = model_tuner.tune_parameters(X_train=tfdf_train, y_train=tfdf_val, param_grid=param_grid)"
      ]
    },
    {
      "cell_type": "markdown",
      "metadata": {
        "id": "DerKIQKiMo3L"
      },
      "source": [
        "##### Neural Network"
      ]
    },
    {
      "cell_type": "code",
      "execution_count": null,
      "metadata": {
        "colab": {
          "base_uri": "https://localhost:8080/"
        },
        "id": "oBlFPwpib7qA",
        "outputId": "6a3f6e82-3ead-40bf-ffdd-f920e06edebe"
      },
      "outputs": [
        {
          "name": "stdout",
          "output_type": "stream",
          "text": [
            "10584/10584 [==============================] - 40s 4ms/step - loss: 62.1395 - accuracy: 0.9933 - val_loss: 7.3726 - val_accuracy: 0.9953\n",
            "10585/10585 [==============================] - 24s 2ms/step - loss: 12.0875 - accuracy: 0.9925\n",
            "10585/10585 [==============================] - 46s 4ms/step - loss: 38.7610 - accuracy: 0.9858 - val_loss: 13.0068 - val_accuracy: 0.9960\n",
            "10584/10584 [==============================] - 23s 2ms/step - loss: 7.2344 - accuracy: 0.9988\n",
            "10584/10584 [==============================] - 33s 3ms/step - loss: 21.0015 - accuracy: 0.9954 - val_loss: 14.0542 - val_accuracy: 0.9960\n",
            "10585/10585 [==============================] - 24s 2ms/step - loss: 20.4832 - accuracy: 0.9937\n",
            "10585/10585 [==============================] - 40s 4ms/step - loss: 21.7450 - accuracy: 0.9871 - val_loss: 4.7520 - val_accuracy: 0.9974\n",
            "10584/10584 [==============================] - 23s 2ms/step - loss: 3.9096 - accuracy: 0.9985\n",
            "10584/10584 [==============================] - 35s 3ms/step - loss: 24.4246 - accuracy: 0.9952 - val_loss: 23.4436 - val_accuracy: 0.9957\n",
            "10585/10585 [==============================] - 24s 2ms/step - loss: 21.5479 - accuracy: 0.9933\n",
            "10585/10585 [==============================] - 39s 4ms/step - loss: 34.0695 - accuracy: 0.9863 - val_loss: 4.5447 - val_accuracy: 0.9840\n",
            "10584/10584 [==============================] - 22s 2ms/step - loss: 5.8461 - accuracy: 0.9738\n",
            "10584/10584 [==============================] - 43s 4ms/step - loss: 3.5357 - accuracy: 0.9942 - val_loss: 0.1488 - val_accuracy: 0.9779\n",
            "10585/10585 [==============================] - 27s 3ms/step - loss: 0.2154 - accuracy: 0.9613\n",
            "10585/10585 [==============================] - 55s 5ms/step - loss: 4.9580 - accuracy: 0.9635 - val_loss: 0.1840 - val_accuracy: 0.9692\n",
            "10584/10584 [==============================] - 24s 2ms/step - loss: 0.1908 - accuracy: 0.9936\n",
            "10584/10584 [==============================] - 45s 4ms/step - loss: 5.4119 - accuracy: 0.9944 - val_loss: 0.1467 - val_accuracy: 0.9904\n",
            "10585/10585 [==============================] - 26s 2ms/step - loss: 0.2408 - accuracy: 0.9828\n",
            "10585/10585 [==============================] - 50s 5ms/step - loss: 4.9602 - accuracy: 0.9634 - val_loss: 0.2253 - val_accuracy: 0.9459\n",
            "10584/10584 [==============================] - 25s 2ms/step - loss: 0.2099 - accuracy: 0.9867\n",
            "10584/10584 [==============================] - 50s 5ms/step - loss: 4.6533 - accuracy: 0.9943 - val_loss: 0.0960 - val_accuracy: 0.9930\n",
            "10585/10585 [==============================] - 27s 2ms/step - loss: 0.1461 - accuracy: 0.9882\n",
            "10585/10585 [==============================] - 51s 5ms/step - loss: 4.3104 - accuracy: 0.9818 - val_loss: 0.0718 - val_accuracy: 0.9951\n",
            "10584/10584 [==============================] - 25s 2ms/step - loss: 0.0460 - accuracy: 0.9982\n",
            "10584/10584 [==============================] - 56s 5ms/step - loss: 0.2911 - accuracy: 0.9923 - val_loss: 0.0524 - val_accuracy: 0.9834\n",
            "10585/10585 [==============================] - 29s 3ms/step - loss: 0.0827 - accuracy: 0.9703\n",
            "10585/10585 [==============================] - 64s 6ms/step - loss: 0.4886 - accuracy: 0.9814 - val_loss: 0.0237 - val_accuracy: 0.9969\n",
            "10584/10584 [==============================] - 26s 2ms/step - loss: 0.0166 - accuracy: 0.9987\n",
            "10584/10584 [==============================] - 64s 6ms/step - loss: 0.5767 - accuracy: 0.9934 - val_loss: 0.1097 - val_accuracy: 0.9816\n",
            "10585/10585 [==============================] - 28s 3ms/step - loss: 0.1830 - accuracy: 0.9674\n",
            "10585/10585 [==============================] - 63s 6ms/step - loss: 0.7360 - accuracy: 0.9811 - val_loss: 0.0314 - val_accuracy: 0.9962\n",
            "10584/10584 [==============================] - 27s 3ms/step - loss: 0.0192 - accuracy: 0.9984\n",
            "10584/10584 [==============================] - 59s 5ms/step - loss: 1.3176 - accuracy: 0.9914 - val_loss: 0.0522 - val_accuracy: 0.9944\n",
            "10585/10585 [==============================] - 29s 3ms/step - loss: 0.0784 - accuracy: 0.9901\n",
            "10585/10585 [==============================] - 69s 6ms/step - loss: 0.7957 - accuracy: 0.9816 - val_loss: 0.0265 - val_accuracy: 0.9948\n",
            "10584/10584 [==============================] - 27s 3ms/step - loss: 0.0153 - accuracy: 0.9987\n",
            "21169/21169 [==============================] - 77s 4ms/step - loss: 18.6434 - accuracy: 0.9914 - val_loss: 3.3928 - val_accuracy: 0.9975\n"
          ]
        },
        {
          "name": "stdout",
          "output_type": "stream",
          "text": []
        }
      ],
      "source": [
        "model_tuner = ModelTuner(model_type='NN')\n",
        "param_grid = {\n",
        "    'n_hidden': [4, 8],\n",
        "    'n_neurons': [64, 128]\n",
        "}\n",
        "best_params = model_tuner.tune_parameters(X_train, y_train, param_grid)\n",
        "best_model = build_model(**best_params)\n",
        "history = best_model.fit(X_train, y_train, epochs=300, batch_size=32, verbose=0, validation_data=(X_test, y_test),\n",
        "          callbacks=[early_stop])"
      ]
    },
    {
      "cell_type": "code",
      "execution_count": null,
      "metadata": {},
      "outputs": [
        {
          "name": "stdout",
          "output_type": "stream",
          "text": [
            "Test Loss: 0.034795477986335754\n",
            "Test Accuracy: 0.9978758692741394\n"
          ]
        }
      ],
      "source": [
        "test_results = best_model.evaluate(X_test, y_test, verbose=0)\n",
        "\n",
        "print(\"Test Loss:\", test_results[0])\n",
        "print(\"Test Accuracy:\", test_results[1])"
      ]
    },
    {
      "cell_type": "code",
      "execution_count": null,
      "metadata": {
        "id": "pAHeL-Vub9Ff"
      },
      "outputs": [
        {
          "name": "stdout",
          "output_type": "stream",
          "text": [
            "Best parameters found:  {'n_hidden': 1, 'n_neurons': 128}"
          ]
        }
      ],
      "source": [
        "# Get the best parameter\n",
        "print(\"Best parameters found: \", best_params)"
      ]
    },
    {
      "cell_type": "markdown",
      "metadata": {
        "id": "oOTuyV2A3m4s"
      },
      "source": [
        "## PySpark"
      ]
    },
    {
      "cell_type": "code",
      "execution_count": 8,
      "metadata": {
        "id": "eVK3edEtNyZL"
      },
      "outputs": [],
      "source": [
        "from pyspark.ml.classification import DecisionTreeClassifier\n",
        "from sklearn.metrics import confusion_matrix\n",
        "from pyspark.ml import Pipeline\n",
        "from pyspark.ml.evaluation import MulticlassClassificationEvaluator\n",
        "from pyspark.ml.tuning import ParamGridBuilder, CrossValidator\n",
        "import matplotlib.pyplot as plt\n",
        "import seaborn as sns\n",
        "\n",
        "import pyspark\n",
        "from pyspark.sql import SparkSession\n",
        "from pyspark.ml.linalg import DenseVector\n",
        "from pyspark.ml.feature import VectorAssembler\n",
        "from pyspark.ml.feature import StringIndexer\n",
        "from pyspark.ml.classification import MultilayerPerceptronClassifier\n",
        "from pyspark.ml.evaluation import MulticlassClassificationEvaluator\n",
        "from pyspark.ml.tuning import ParamGridBuilder, CrossValidator"
      ]
    },
    {
      "cell_type": "markdown",
      "metadata": {
        "id": "JTCzpXpnOB7U"
      },
      "source": [
        "#### Preprocessing"
      ]
    },
    {
      "cell_type": "code",
      "execution_count": 9,
      "metadata": {
        "id": "MVQCU0iC6PRX"
      },
      "outputs": [],
      "source": [
        "# Select features\n",
        "# Define the feature columns (excluding 'member_id' and 'default_ind')\n",
        "feature_cols = [\n",
        " 'loan_amnt',\n",
        " 'funded_amnt',\n",
        " 'funded_amnt_inv',\n",
        " 'int_rate',\n",
        " 'installment',\n",
        " 'grade',\n",
        " 'sub_grade',\n",
        " 'emp_length',\n",
        " 'annual_inc',\n",
        " 'issue_d',\n",
        " 'purpose',\n",
        " 'zip_code',\n",
        " 'addr_state',\n",
        " 'dti',\n",
        " 'delinq_2yrs',\n",
        " 'earliest_cr_line',\n",
        " 'inq_last_6mths',\n",
        " 'revol_bal',\n",
        " 'revol_util',\n",
        " 'initial_list_status',\n",
        " 'out_prncp',\n",
        " 'out_prncp_inv',\n",
        " 'total_pymnt',\n",
        " 'total_pymnt_inv',\n",
        " 'total_rec_prncp',\n",
        " 'total_rec_int',\n",
        " 'total_rec_late_fee',\n",
        " 'recoveries',\n",
        " 'collection_recovery_fee',\n",
        " 'last_pymnt_d',\n",
        " 'last_pymnt_amnt',\n",
        " 'last_credit_pull_d',\n",
        " 'tot_cur_bal',\n",
        " 'total_rev_hi_lim',\n",
        " 'term__36_months',\n",
        " 'term__60_months',\n",
        " 'home_ownership_MORTGAGE',\n",
        " 'home_ownership_RENT',\n",
        " 'home_ownership_OWN',\n",
        " 'home_ownership_OTHER',\n",
        " 'verification_status_Source_Verified',\n",
        " 'verification_status_Verified',\n",
        " 'verification_status_Not_Verified'\n",
        "]\n",
        "\n",
        "# Separate numeric and string columns\n",
        "numeric_cols = [\n",
        " 'loan_amnt',\n",
        " 'funded_amnt',\n",
        " 'funded_amnt_inv',\n",
        " 'int_rate',\n",
        " 'installment',\n",
        " 'annual_inc',\n",
        " 'dti',\n",
        " 'delinq_2yrs',\n",
        " 'inq_last_6mths',\n",
        " 'revol_bal',\n",
        " 'revol_util',\n",
        " 'out_prncp',\n",
        " 'out_prncp_inv',\n",
        " 'total_pymnt',\n",
        " 'total_pymnt_inv',\n",
        " 'total_rec_prncp',\n",
        " 'total_rec_int',\n",
        " 'total_rec_late_fee',\n",
        " 'recoveries',\n",
        " 'collection_recovery_fee',\n",
        " 'last_pymnt_amnt',\n",
        " 'tot_cur_bal',\n",
        " 'total_rev_hi_lim',\n",
        " 'term__36_months',\n",
        " 'term__60_months',\n",
        " 'home_ownership_MORTGAGE',\n",
        " 'home_ownership_RENT',\n",
        " 'home_ownership_OWN',\n",
        " 'home_ownership_OTHER',\n",
        " 'verification_status_Source_Verified',\n",
        " 'verification_status_Verified',\n",
        " 'verification_status_Not_Verified'\n",
        "]\n",
        "\n",
        "string_cols = [\n",
        " 'grade',\n",
        " 'sub_grade',\n",
        " 'emp_length',\n",
        " 'issue_d',\n",
        " 'purpose',\n",
        " 'zip_code',\n",
        " 'addr_state',\n",
        " 'earliest_cr_line',\n",
        " 'initial_list_status',\n",
        " 'last_pymnt_d',\n",
        " 'last_credit_pull_d'\n",
        "]\n",
        "\n",
        "# Handle numeric columns and string columns\n",
        "# Index and encode string columns\n",
        "indexers = [StringIndexer(inputCol=col, outputCol=col + \"_index\", handleInvalid=\"keep\") for col in string_cols]\n",
        "encoders = [OneHotEncoder(inputCol=col + \"_index\", outputCol=col + \"_encoded\") for col in string_cols]"
      ]
    },
    {
      "cell_type": "code",
      "execution_count": 10,
      "metadata": {
        "id": "lMxyEXltN--G"
      },
      "outputs": [],
      "source": [
        "# Assemble all features\n",
        "assembler = VectorAssembler(inputCols=numeric_cols + [col + \"_encoded\" for col in string_cols], outputCol=\"features\")\n",
        "\n",
        "# Index the target variable\n",
        "indexer = StringIndexer(inputCol=\"default_ind\", outputCol=\"label\", handleInvalid=\"keep\")"
      ]
    },
    {
      "cell_type": "markdown",
      "metadata": {
        "id": "L41GekpU4Y39"
      },
      "source": [
        "#### Training and Tuning"
      ]
    },
    {
      "cell_type": "markdown",
      "metadata": {
        "id": "agsd75x5QsB5"
      },
      "source": [
        "##### Neural Network"
      ]
    },
    {
      "cell_type": "code",
      "execution_count": null,
      "metadata": {
        "id": "8V8i77DIQtw9"
      },
      "outputs": [],
      "source": [
        "# Define the layers for the MLP model\n",
        "input_size = len(train_data.head().features)\n",
        "layers = [input_size, 64, 32, 2]\n",
        "\n",
        "# Instantiate the MLP model\n",
        "mlp_classifier = MultilayerPerceptronClassifier(labelCol='label',\n",
        "                                                featuresCol='features',\n",
        "                                                maxIter=100,\n",
        "                                                layers=layers,\n",
        "                                                seed=1234)"
      ]
    },
    {
      "cell_type": "code",
      "execution_count": null,
      "metadata": {
        "id": "BRN7ARj_RTZn"
      },
      "outputs": [],
      "source": [
        "# Define the parameter grid for hyperparameter tuning\n",
        "paramGrid = (ParamGridBuilder()\n",
        "             .addGrid(mlp_classifier.layers, [[input_size, 64, 2], [input_size, 128, 2], [input_size, 256, 2]])\n",
        "             .addGrid(mlp_classifier.solver, ['gd', 'l-bfgs'])\n",
        "             .build())\n",
        "\n",
        "# Define the CrossValidator\n",
        "crossval = CrossValidator(estimator=mlp_classifier,\n",
        "                          estimatorParamMaps=paramGrid,\n",
        "                          evaluator=MulticlassClassificationEvaluator(labelCol=\"label\", predictionCol=\"prediction\", metricName=\"accuracy\"),\n",
        "                          numFolds=3)"
      ]
    },
    {
      "cell_type": "code",
      "execution_count": null,
      "metadata": {
        "id": "5lA8UIzMRW2P"
      },
      "outputs": [
        {
          "name": "stdout",
          "output_type": "stream",
          "text": [
            "Iteration 1/9, Accuracy: 0.9907012556266288\n",
            "Iteration 2/9, Accuracy: 0.9907012556266288\n",
            "Iteration 3/9, Accuracy: 0.9907012556266288\n",
            "Iteration 4/9, Accuracy: 0.9990168206586117\n",
            "Iteration 5/9, Accuracy: 0.9990642027955461\n",
            "Iteration 6/9, Accuracy: 0.9990405117270789\n",
            "Iteration 7/9, Accuracy: 0.9989694385216773\n",
            "Iteration 8/9, Accuracy: 0.999360341151386\n",
            "Iteration 9/9, Accuracy: 0.9992892679459844\n"
          ]
        }
      ],
      "source": [
        "# Early stopping criteria\n",
        "early_stopping_rounds = 3\n",
        "best_score = 0.0\n",
        "patience = 0\n",
        "\n",
        "# Custom cross-validation loop\n",
        "param_maps = crossval.getEstimatorParamMaps()\n",
        "nn_spark_model = None\n",
        "for i, param_map in enumerate(param_maps):\n",
        "    # Set the parameters for the current iteration\n",
        "    model = mlp_classifier.copy(param_map)\n",
        "    # Perform cross-validation\n",
        "    cv_model = model.fit(train_data)\n",
        "\n",
        "    # Evaluate the model\n",
        "    predictions = cv_model.transform(val_data)\n",
        "    evaluator = MulticlassClassificationEvaluator(labelCol=\"label\",\n",
        "                                                  predictionCol=\"prediction\",\n",
        "                                                  metricName=\"accuracy\")\n",
        "    accuracy = evaluator.evaluate(predictions)\n",
        "\n",
        "    print(f'Param map: {param_maps}')\n",
        "    print(f\"Iteration {i+1}/{len(param_maps)}, Accuracy: {accuracy}\")\n",
        "\n",
        "    # Check for early stopping\n",
        "    if accuracy > best_score:\n",
        "        best_score = accuracy\n",
        "        nn_spark_model = cv_model\n",
        "        patience = 0\n",
        "    else:\n",
        "        patience += 1\n",
        "\n",
        "    if patience >= early_stopping_rounds:\n",
        "        print(\"Early stopping triggered\")\n",
        "        break"
      ]
    },
    {
      "cell_type": "markdown",
      "metadata": {
        "id": "wJ_2S5K4Oqvs"
      },
      "source": [
        "##### Decision Tree"
      ]
    },
    {
      "cell_type": "code",
      "execution_count": 11,
      "metadata": {
        "id": "dybH2rTL3oOT"
      },
      "outputs": [],
      "source": [
        "# Define the Decision Tree Classifier\n",
        "dt = DecisionTreeClassifier(featuresCol=\"features\", labelCol=\"label\")\n",
        "\n",
        "# Create a pipeline to assemble the steps\n",
        "pipeline = Pipeline(stages=indexers + encoders + [assembler, indexer, dt])\n",
        "\n",
        "# Define the parameter grid for hyperparameter tuning\n",
        "paramGrid = (ParamGridBuilder()\n",
        "             .addGrid(dt.maxDepth, [5, 10, 15])\n",
        "             .addGrid(dt.minInstancesPerNode, [1, 5, 10])\n",
        "             .build())\n",
        "\n",
        "# Define the CrossValidator\n",
        "crossval = CrossValidator(estimator=pipeline,\n",
        "                          estimatorParamMaps=paramGrid,\n",
        "                          evaluator=MulticlassClassificationEvaluator(labelCol=\"label\", predictionCol=\"prediction\", metricName=\"accuracy\"),\n",
        "                          numFolds=3)\n"
      ]
    },
    {
      "cell_type": "code",
      "execution_count": null,
      "metadata": {
        "id": "18mS7Xx7OSbI"
      },
      "outputs": [
        {
          "name": "stdout",
          "output_type": "stream",
          "text": [
            "Iteration 1/9, Accuracy: 0.9907012556266288\n",
            "Iteration 2/9, Accuracy: 0.9907012556266288\n",
            "Iteration 3/9, Accuracy: 0.9907012556266288\n",
            "Iteration 4/9, Accuracy: 0.9990168206586117\n",
            "Iteration 5/9, Accuracy: 0.9990642027955461\n",
            "Iteration 6/9, Accuracy: 0.9990405117270789\n",
            "Iteration 7/9, Accuracy: 0.9989694385216773\n",
            "Iteration 8/9, Accuracy: 0.999360341151386\n",
            "Iteration 9/9, Accuracy: 0.9992892679459844\n"
          ]
        }
      ],
      "source": [
        "# Early stopping criteria\n",
        "early_stopping_rounds = 3\n",
        "best_score = 0.0\n",
        "patience = 0\n",
        "\n",
        "# Custom cross-validation loop\n",
        "param_maps = crossval.getEstimatorParamMaps()\n",
        "dt_spark_model = None\n",
        "\n",
        "for i, param_map in enumerate(param_maps):\n",
        "    # Set the parameters for the current iteration\n",
        "    model = pipeline.copy(param_map)\n",
        "    # Perform cross-validation\n",
        "    cv_model = model.fit(train_data)\n",
        "\n",
        "    # Evaluate the model\n",
        "    predictions = cv_model.transform(val_data)\n",
        "    evaluator = MulticlassClassificationEvaluator(labelCol=\"label\", predictionCol=\"prediction\", metricName=\"accuracy\")\n",
        "    accuracy = evaluator.evaluate(predictions)\n",
        "\n",
        "    print(f\"Iteration {i+1}/{len(param_maps)}, Accuracy: {accuracy}\")\n",
        "\n",
        "    # Check for early stopping\n",
        "    if accuracy > best_score:\n",
        "        best_score = accuracy\n",
        "        dt_spark_model = cv_model\n",
        "        patience = 0\n",
        "    else:\n",
        "        patience += 1\n",
        "\n",
        "    if patience >= early_stopping_rounds:\n",
        "      print(\"Early stopping triggered\")\n",
        "      break"
      ]
    },
    {
      "cell_type": "markdown",
      "metadata": {
        "id": "ZElHHplOYNQZ"
      },
      "source": [
        "##### Random Forest"
      ]
    },
    {
      "cell_type": "code",
      "execution_count": null,
      "metadata": {
        "id": "hSMvL4URYPBt"
      },
      "outputs": [
        {
          "name": "stdout",
          "output_type": "stream",
          "text": [
            "Model Parameters:\n",
            "RandomForestClassifier_2587b6c40a10__bootstrap: True\n",
            "RandomForestClassifier_2587b6c40a10__cacheNodeIds: False\n",
            "RandomForestClassifier_2587b6c40a10__checkpointInterval: 10\n",
            "RandomForestClassifier_2587b6c40a10__featureSubsetStrategy: auto\n",
            "RandomForestClassifier_2587b6c40a10__featuresCol: features\n",
            "RandomForestClassifier_2587b6c40a10__impurity: gini\n",
            "RandomForestClassifier_2587b6c40a10__labelCol: default_ind\n",
            "RandomForestClassifier_2587b6c40a10__leafCol: \n",
            "RandomForestClassifier_2587b6c40a10__maxBins: 32\n",
            "RandomForestClassifier_2587b6c40a10__maxDepth: 5\n",
            "RandomForestClassifier_2587b6c40a10__maxMemoryInMB: 256\n",
            "RandomForestClassifier_2587b6c40a10__minInfoGain: 0.0\n",
            "RandomForestClassifier_2587b6c40a10__minInstancesPerNode: 1\n",
            "RandomForestClassifier_2587b6c40a10__minWeightFractionPerNode: 0.0\n",
            "RandomForestClassifier_2587b6c40a10__numTrees: 20\n",
            "RandomForestClassifier_2587b6c40a10__predictionCol: prediction\n",
            "RandomForestClassifier_2587b6c40a10__probabilityCol: probability\n",
            "RandomForestClassifier_2587b6c40a10__rawPredictionCol: rawPrediction\n",
            "RandomForestClassifier_2587b6c40a10__seed: 8765275973112923211\n",
            "RandomForestClassifier_2587b6c40a10__subsamplingRate: 1.0\n"
          ]
        }
      ],
      "source": [
        "# Import Random Forest Classifier\n",
        "from pyspark.ml.classification import RandomForestClassifier\n",
        "\n",
        "# Initialize the Random Forest model\n",
        "rf = RandomForestClassifier(featuresCol=\"features\", labelCol='label')\n",
        "\n",
        "# Define a parameter grid to search through\n",
        "param_grid = (ParamGridBuilder()\n",
        "               .addGrid(rf.maxDepth, [5, 10, 15])\n",
        "               .addGrid(rf.numTrees, [10, 20, 30])\n",
        "               .build())\n",
        "\n",
        "# Define evaluator\n",
        "evaluator = MulticlassClassificationEvaluator(labelCol=\"label\", predictionCol=\"prediction\", metricName=\"accuracy\")\n",
        "\n",
        "# Define cross-validator\n",
        "cross_val = CrossValidator(estimator=rf,\n",
        "                           estimatorParamMaps=param_grid,\n",
        "                           evaluator=evaluator,\n",
        "                           numFolds=3)\n",
        "\n",
        "# Fit cross-validator to train data\n",
        "cv_model = cross_val.fit(train_data)\n",
        "\n",
        "# Get best model from cross-validation\n",
        "best_rf_model = cv_model.bestModel\n",
        "\n",
        "# Print model parameters\n",
        "print(\"Model Parameters:\")\n",
        "for param, value in best_rf_model.extractParamMap().items():\n",
        "    print(f\"{param}: {value}\")"
      ]
    },
    {
      "cell_type": "code",
      "execution_count": null,
      "metadata": {
        "id": "ijE3-xTbgOYi"
      },
      "outputs": [],
      "source": []
    },
    {
      "cell_type": "markdown",
      "metadata": {
        "id": "-8n8U01qOh6L"
      },
      "source": [
        "#### Evaluation"
      ]
    },
    {
      "cell_type": "markdown",
      "metadata": {
        "id": "rr_-lkr-T9PS"
      },
      "source": [
        "##### Neural Network"
      ]
    },
    {
      "cell_type": "code",
      "execution_count": null,
      "metadata": {
        "id": "TNSua9XCUAKx"
      },
      "outputs": [
        {
          "name": "stdout",
          "output_type": "stream",
          "text": [
            "Overall accuracy rate: 0.9919900320398718"
          ]
        }
      ],
      "source": [
        "# Predict the model on test set\n",
        "predictions = nn_spark_model.transform(test_data)\n",
        "evaluator = MulticlassClassificationEvaluator(labelCol=\"label\", predictionCol=\"prediction\", metricName=\"accuracy\")\n",
        "accuracy = evaluator.evaluate(predictions)\n",
        "print(\"Overall accuracy rate:\", accuracy)"
      ]
    },
    {
      "cell_type": "markdown",
      "metadata": {
        "id": "dkOhshRdOuJa"
      },
      "source": [
        "##### Decision Tree"
      ]
    },
    {
      "cell_type": "code",
      "execution_count": null,
      "metadata": {
        "id": "Fxmbja0xOj5y"
      },
      "outputs": [
        {
          "name": "stdout",
          "output_type": "stream",
          "text": [
            "Best model accuracy: 0.9992892679459844"
          ]
        }
      ],
      "source": [
        "# Make predictions on the validation data\n",
        "predictions = dt_spark_model.transform(val_data)\n",
        "\n",
        "# Evaluate the model\n",
        "evaluator = MulticlassClassificationEvaluator(labelCol=\"label\", predictionCol=\"prediction\", metricName=\"accuracy\")\n",
        "accuracy = evaluator.evaluate(predictions)\n",
        "\n",
        "print(f\"Best model accuracy: {accuracy}\")"
      ]
    },
    {
      "cell_type": "markdown",
      "metadata": {
        "id": "Zd4g02phgTvq"
      },
      "source": [
        "##### Random Forest"
      ]
    },
    {
      "cell_type": "code",
      "execution_count": null,
      "metadata": {
        "id": "szkW57ozgVYV"
      },
      "outputs": [
        {
          "name": "stdout",
          "output_type": "stream",
          "text": [
            "Tuned Model Evaluation on Test Set:\n",
            "AUC: 0.9976899804742231\n",
            "Accuracy: 0.9979526521391255\n",
            "Precision: 0.9995509654243376\n",
            "Recall: 0.96280276816609\n",
            "F1 Score: 0.9808327825512226\n"
          ]
        }
      ],
      "source": [
        "from pyspark.ml.evaluation import BinaryClassificationEvaluator, MulticlassClassificationEvaluator\n",
        "\n",
        "# Make predictions on the test and validation data using the best model\n",
        "test_predictions_tuned = best_rf_model.transform(test_data)\n",
        "val_predictions_tuned = best_rf_model.transform(val_data)\n",
        "\n",
        "# Define the threshold for binary classification\n",
        "threshold = 0.5\n",
        "target_column = \"default_ind\"\n",
        "\n",
        "# Define evaluators\n",
        "multiclass_evaluator = MulticlassClassificationEvaluator(labelCol=target_column)\n",
        "\n",
        "# Define a function to calculate precision and recall manually\n",
        "def calculate_precision_recall(predictions, threshold):\n",
        "    true_positives = predictions.filter((predictions[target_column] == 1) & (predictions[\"prediction\"] == 1)).count()\n",
        "    false_positives = predictions.filter((predictions[target_column] == 0) & (predictions[\"prediction\"] == 1)).count()\n",
        "    false_negatives = predictions.filter((predictions[target_column] == 1) & (predictions[\"prediction\"] == 0)).count()\n",
        "\n",
        "    precision = true_positives / (true_positives + false_positives)\n",
        "    recall = true_positives / (true_positives + false_negatives)\n",
        "\n",
        "    return precision, recall\n",
        "\n",
        "# Evaluate the tuned model on the test set\n",
        "test_auc_tuned = multiclass_evaluator.evaluate(test_predictions_tuned, {multiclass_evaluator.metricName: \"areaUnderROC\"})\n",
        "test_accuracy_tuned = multiclass_evaluator.evaluate(test_predictions_tuned, {multiclass_evaluator.metricName: \"accuracy\"})\n",
        "test_precision_tuned, test_recall_tuned = calculate_precision_recall(test_predictions_tuned, threshold)\n",
        "test_f1_tuned = 2 * (test_precision_tuned * test_recall_tuned) / (test_precision_tuned + test_recall_tuned)\n",
        "\n",
        "print(\"Tuned Model Evaluation on Test Set:\")\n",
        "print(f\"AUC: {test_auc_tuned}\")\n",
        "print(f\"Accuracy: {test_accuracy_tuned}\")\n",
        "print(f\"Precision: {test_precision_tuned}\")\n",
        "print(f\"Recall: {test_recall_tuned}\")\n",
        "print(f\"F1 Score: {test_f1_tuned}\")"
      ]
    },
    {
      "cell_type": "code",
      "execution_count": null,
      "metadata": {
        "id": "aczFq8hBgndA"
      },
      "outputs": [],
      "source": [
        "# Stop the Spark session\n",
        "spark.stop()"
      ]
    }
  ],
  "metadata": {
    "accelerator": "GPU",
    "colab": {
      "collapsed_sections": [
        "kvMfrsfuBjdJ",
        "jna69Tli-5j5",
        "i9ho2sRk_D1B",
        "72NHnWhY4eFM",
        "8HrIIM1T3chz",
        "Spo9CaBeMmNK",
        "jWPXo43bM0E0",
        "7m6P1BB0M5fx",
        "HbKgvrPv3kij",
        "zOQXC7SgML9S",
        "EC47Kgb3MSVH",
        "oQbXl1B2MU2f",
        "V-f2ZatoZG4I",
        "pqQDC3ChMc5g",
        "1hG4q65sMf-8",
        "ymIQBKUVMjWy",
        "fz6_td-4NGzm",
        "vxO5Vb6kkSAc",
        "DerKIQKiMo3L",
        "oOTuyV2A3m4s",
        "L41GekpU4Y39",
        "wJ_2S5K4Oqvs",
        "ZElHHplOYNQZ",
        "-8n8U01qOh6L",
        "rr_-lkr-T9PS",
        "Zd4g02phgTvq",
        "jzYDBxHc4awF"
      ],
      "gpuType": "T4",
      "provenance": []
    },
    "kernelspec": {
      "display_name": "Python 3",
      "name": "python3"
    },
    "language_info": {
      "name": "python"
    }
  },
  "nbformat": 4,
  "nbformat_minor": 0
}